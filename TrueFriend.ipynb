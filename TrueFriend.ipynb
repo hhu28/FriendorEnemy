{
 "cells": [
  {
   "cell_type": "code",
   "execution_count": 338,
   "metadata": {
    "collapsed": true
   },
   "outputs": [],
   "source": [
    "import pandas as pd\n",
    "import dill as pickle\n",
    "import networkx as nx\n",
    "import itertools\n",
    "from collections import Counter\n",
    "import heapq\n",
    "import time"
   ]
  },
  {
   "cell_type": "code",
   "execution_count": 259,
   "metadata": {
    "collapsed": true
   },
   "outputs": [],
   "source": [
    "# read in 3 files \n",
    "scores = pd.read_csv('sample_scores.csv')\n",
    "friends = pd.read_csv('friends.csv')\n",
    "foes = pd.read_csv('foes.csv')"
   ]
  },
  {
   "cell_type": "code",
   "execution_count": 12,
   "metadata": {},
   "outputs": [
    {
     "data": {
      "text/html": [
       "<div>\n",
       "<style>\n",
       "    .dataframe thead tr:only-child th {\n",
       "        text-align: right;\n",
       "    }\n",
       "\n",
       "    .dataframe thead th {\n",
       "        text-align: left;\n",
       "    }\n",
       "\n",
       "    .dataframe tbody tr th {\n",
       "        vertical-align: top;\n",
       "    }\n",
       "</style>\n",
       "<table border=\"1\" class=\"dataframe\">\n",
       "  <thead>\n",
       "    <tr style=\"text-align: right;\">\n",
       "      <th></th>\n",
       "      <th>person1</th>\n",
       "      <th>person2</th>\n",
       "    </tr>\n",
       "  </thead>\n",
       "  <tbody>\n",
       "    <tr>\n",
       "      <th>0</th>\n",
       "      <td>441e08b1_a0431c52</td>\n",
       "      <td>404021bf_898326ec</td>\n",
       "    </tr>\n",
       "    <tr>\n",
       "      <th>1</th>\n",
       "      <td>3f4929ef_956613b7</td>\n",
       "      <td>d6031447_a684b614</td>\n",
       "    </tr>\n",
       "    <tr>\n",
       "      <th>2</th>\n",
       "      <td>1f75eb7f_e1d4405b</td>\n",
       "      <td>5ccf7530_5343d32b</td>\n",
       "    </tr>\n",
       "    <tr>\n",
       "      <th>3</th>\n",
       "      <td>9b6edd00_179def5</td>\n",
       "      <td>e7d1222f_49ff1c63</td>\n",
       "    </tr>\n",
       "    <tr>\n",
       "      <th>4</th>\n",
       "      <td>130181c4_27cb3b23</td>\n",
       "      <td>536c3152_db65659b</td>\n",
       "    </tr>\n",
       "  </tbody>\n",
       "</table>\n",
       "</div>"
      ],
      "text/plain": [
       "             person1            person2\n",
       "0  441e08b1_a0431c52  404021bf_898326ec\n",
       "1  3f4929ef_956613b7  d6031447_a684b614\n",
       "2  1f75eb7f_e1d4405b  5ccf7530_5343d32b\n",
       "3   9b6edd00_179def5  e7d1222f_49ff1c63\n",
       "4  130181c4_27cb3b23  536c3152_db65659b"
      ]
     },
     "execution_count": 12,
     "metadata": {},
     "output_type": "execute_result"
    }
   ],
   "source": [
    "friends.head()"
   ]
  },
  {
   "cell_type": "code",
   "execution_count": 13,
   "metadata": {},
   "outputs": [
    {
     "data": {
      "text/html": [
       "<div>\n",
       "<style>\n",
       "    .dataframe thead tr:only-child th {\n",
       "        text-align: right;\n",
       "    }\n",
       "\n",
       "    .dataframe thead th {\n",
       "        text-align: left;\n",
       "    }\n",
       "\n",
       "    .dataframe tbody tr th {\n",
       "        vertical-align: top;\n",
       "    }\n",
       "</style>\n",
       "<table border=\"1\" class=\"dataframe\">\n",
       "  <thead>\n",
       "    <tr style=\"text-align: right;\">\n",
       "      <th></th>\n",
       "      <th>person1</th>\n",
       "      <th>person2</th>\n",
       "    </tr>\n",
       "  </thead>\n",
       "  <tbody>\n",
       "    <tr>\n",
       "      <th>0</th>\n",
       "      <td>1a78a273_69afff35</td>\n",
       "      <td>cbbb389d_6c185226</td>\n",
       "    </tr>\n",
       "    <tr>\n",
       "      <th>1</th>\n",
       "      <td>b49793f1_89131c25</td>\n",
       "      <td>528b6768_4cfc6dfc</td>\n",
       "    </tr>\n",
       "    <tr>\n",
       "      <th>2</th>\n",
       "      <td>dae7f2ef_a0eb0f08</td>\n",
       "      <td>f855223d_12422aaf</td>\n",
       "    </tr>\n",
       "    <tr>\n",
       "      <th>3</th>\n",
       "      <td>653464a_6d49face</td>\n",
       "      <td>7ac0271c_3677a2d6</td>\n",
       "    </tr>\n",
       "    <tr>\n",
       "      <th>4</th>\n",
       "      <td>ae33fd68_8c646d91</td>\n",
       "      <td>b66507c7_44b175d3</td>\n",
       "    </tr>\n",
       "  </tbody>\n",
       "</table>\n",
       "</div>"
      ],
      "text/plain": [
       "             person1            person2\n",
       "0  1a78a273_69afff35  cbbb389d_6c185226\n",
       "1  b49793f1_89131c25  528b6768_4cfc6dfc\n",
       "2  dae7f2ef_a0eb0f08  f855223d_12422aaf\n",
       "3   653464a_6d49face  7ac0271c_3677a2d6\n",
       "4  ae33fd68_8c646d91  b66507c7_44b175d3"
      ]
     },
     "execution_count": 13,
     "metadata": {},
     "output_type": "execute_result"
    }
   ],
   "source": [
    "foes.head()"
   ]
  },
  {
   "cell_type": "code",
   "execution_count": 19,
   "metadata": {},
   "outputs": [
    {
     "data": {
      "text/html": [
       "<div>\n",
       "<style>\n",
       "    .dataframe thead tr:only-child th {\n",
       "        text-align: right;\n",
       "    }\n",
       "\n",
       "    .dataframe thead th {\n",
       "        text-align: left;\n",
       "    }\n",
       "\n",
       "    .dataframe tbody tr th {\n",
       "        vertical-align: top;\n",
       "    }\n",
       "</style>\n",
       "<table border=\"1\" class=\"dataframe\">\n",
       "  <thead>\n",
       "    <tr style=\"text-align: right;\">\n",
       "      <th></th>\n",
       "      <th>person id</th>\n",
       "      <th>score</th>\n",
       "    </tr>\n",
       "  </thead>\n",
       "  <tbody>\n",
       "    <tr>\n",
       "      <th>0</th>\n",
       "      <td>1122b7d5_ed317db7</td>\n",
       "      <td>-2</td>\n",
       "    </tr>\n",
       "    <tr>\n",
       "      <th>1</th>\n",
       "      <td>b0177400_be9028c7</td>\n",
       "      <td>-2</td>\n",
       "    </tr>\n",
       "    <tr>\n",
       "      <th>2</th>\n",
       "      <td>77ac4e2a_77109d8c</td>\n",
       "      <td>-1</td>\n",
       "    </tr>\n",
       "    <tr>\n",
       "      <th>3</th>\n",
       "      <td>49ca4e7d_2eb499f</td>\n",
       "      <td>2</td>\n",
       "    </tr>\n",
       "    <tr>\n",
       "      <th>4</th>\n",
       "      <td>9e4a7320_9ebed277</td>\n",
       "      <td>-2</td>\n",
       "    </tr>\n",
       "  </tbody>\n",
       "</table>\n",
       "</div>"
      ],
      "text/plain": [
       "           person id  score\n",
       "0  1122b7d5_ed317db7     -2\n",
       "1  b0177400_be9028c7     -2\n",
       "2  77ac4e2a_77109d8c     -1\n",
       "3   49ca4e7d_2eb499f      2\n",
       "4  9e4a7320_9ebed277     -2"
      ]
     },
     "execution_count": 19,
     "metadata": {},
     "output_type": "execute_result"
    }
   ],
   "source": [
    "scores.head()"
   ]
  },
  {
   "cell_type": "code",
   "execution_count": 22,
   "metadata": {},
   "outputs": [
    {
     "data": {
      "text/plain": [
       "['person id', 'score']"
      ]
     },
     "execution_count": 22,
     "metadata": {},
     "output_type": "execute_result"
    }
   ],
   "source": [
    "list(scores)"
   ]
  },
  {
   "cell_type": "code",
   "execution_count": 15,
   "metadata": {},
   "outputs": [
    {
     "data": {
      "text/plain": [
       "1927"
      ]
     },
     "execution_count": 15,
     "metadata": {},
     "output_type": "execute_result"
    }
   ],
   "source": [
    "len(scores)"
   ]
  },
  {
   "cell_type": "code",
   "execution_count": 16,
   "metadata": {},
   "outputs": [
    {
     "data": {
      "text/plain": [
       "474835"
      ]
     },
     "execution_count": 16,
     "metadata": {},
     "output_type": "execute_result"
    }
   ],
   "source": [
    "len(friends)"
   ]
  },
  {
   "cell_type": "code",
   "execution_count": 17,
   "metadata": {},
   "outputs": [
    {
     "data": {
      "text/plain": [
       "135644"
      ]
     },
     "execution_count": 17,
     "metadata": {},
     "output_type": "execute_result"
    }
   ],
   "source": [
    "len(foes)"
   ]
  },
  {
   "cell_type": "markdown",
   "metadata": {},
   "source": [
    "## Part (a)"
   ]
  },
  {
   "cell_type": "markdown",
   "metadata": {},
   "source": [
    "### Merging foes and scores (left merge on person id)"
   ]
  },
  {
   "cell_type": "code",
   "execution_count": 23,
   "metadata": {
    "collapsed": true
   },
   "outputs": [],
   "source": [
    "f1 = foes.merge(scores, how = 'left', left_on = 'person1', right_on = 'person id')"
   ]
  },
  {
   "cell_type": "code",
   "execution_count": 30,
   "metadata": {},
   "outputs": [
    {
     "data": {
      "text/html": [
       "<div>\n",
       "<style>\n",
       "    .dataframe thead tr:only-child th {\n",
       "        text-align: right;\n",
       "    }\n",
       "\n",
       "    .dataframe thead th {\n",
       "        text-align: left;\n",
       "    }\n",
       "\n",
       "    .dataframe tbody tr th {\n",
       "        vertical-align: top;\n",
       "    }\n",
       "</style>\n",
       "<table border=\"1\" class=\"dataframe\">\n",
       "  <thead>\n",
       "    <tr style=\"text-align: right;\">\n",
       "      <th></th>\n",
       "      <th>person1</th>\n",
       "      <th>person2</th>\n",
       "      <th>person id</th>\n",
       "      <th>score</th>\n",
       "    </tr>\n",
       "  </thead>\n",
       "  <tbody>\n",
       "    <tr>\n",
       "      <th>0</th>\n",
       "      <td>1a78a273_69afff35</td>\n",
       "      <td>cbbb389d_6c185226</td>\n",
       "      <td>NaN</td>\n",
       "      <td>NaN</td>\n",
       "    </tr>\n",
       "    <tr>\n",
       "      <th>1</th>\n",
       "      <td>b49793f1_89131c25</td>\n",
       "      <td>528b6768_4cfc6dfc</td>\n",
       "      <td>NaN</td>\n",
       "      <td>NaN</td>\n",
       "    </tr>\n",
       "    <tr>\n",
       "      <th>2</th>\n",
       "      <td>dae7f2ef_a0eb0f08</td>\n",
       "      <td>f855223d_12422aaf</td>\n",
       "      <td>NaN</td>\n",
       "      <td>NaN</td>\n",
       "    </tr>\n",
       "    <tr>\n",
       "      <th>3</th>\n",
       "      <td>653464a_6d49face</td>\n",
       "      <td>7ac0271c_3677a2d6</td>\n",
       "      <td>NaN</td>\n",
       "      <td>NaN</td>\n",
       "    </tr>\n",
       "    <tr>\n",
       "      <th>4</th>\n",
       "      <td>ae33fd68_8c646d91</td>\n",
       "      <td>b66507c7_44b175d3</td>\n",
       "      <td>NaN</td>\n",
       "      <td>NaN</td>\n",
       "    </tr>\n",
       "  </tbody>\n",
       "</table>\n",
       "</div>"
      ],
      "text/plain": [
       "             person1            person2 person id  score\n",
       "0  1a78a273_69afff35  cbbb389d_6c185226       NaN    NaN\n",
       "1  b49793f1_89131c25  528b6768_4cfc6dfc       NaN    NaN\n",
       "2  dae7f2ef_a0eb0f08  f855223d_12422aaf       NaN    NaN\n",
       "3   653464a_6d49face  7ac0271c_3677a2d6       NaN    NaN\n",
       "4  ae33fd68_8c646d91  b66507c7_44b175d3       NaN    NaN"
      ]
     },
     "execution_count": 30,
     "metadata": {},
     "output_type": "execute_result"
    }
   ],
   "source": [
    "f1.head()"
   ]
  },
  {
   "cell_type": "code",
   "execution_count": 34,
   "metadata": {
    "collapsed": true
   },
   "outputs": [],
   "source": [
    "f1 = f1.drop('person id', axis = 1)\n",
    "f1 = f1.rename(columns = {\"score\": \"score1\"})"
   ]
  },
  {
   "cell_type": "code",
   "execution_count": 35,
   "metadata": {},
   "outputs": [
    {
     "data": {
      "text/html": [
       "<div>\n",
       "<style>\n",
       "    .dataframe thead tr:only-child th {\n",
       "        text-align: right;\n",
       "    }\n",
       "\n",
       "    .dataframe thead th {\n",
       "        text-align: left;\n",
       "    }\n",
       "\n",
       "    .dataframe tbody tr th {\n",
       "        vertical-align: top;\n",
       "    }\n",
       "</style>\n",
       "<table border=\"1\" class=\"dataframe\">\n",
       "  <thead>\n",
       "    <tr style=\"text-align: right;\">\n",
       "      <th></th>\n",
       "      <th>person1</th>\n",
       "      <th>person2</th>\n",
       "      <th>score1</th>\n",
       "    </tr>\n",
       "  </thead>\n",
       "  <tbody>\n",
       "    <tr>\n",
       "      <th>0</th>\n",
       "      <td>1a78a273_69afff35</td>\n",
       "      <td>cbbb389d_6c185226</td>\n",
       "      <td>NaN</td>\n",
       "    </tr>\n",
       "    <tr>\n",
       "      <th>1</th>\n",
       "      <td>b49793f1_89131c25</td>\n",
       "      <td>528b6768_4cfc6dfc</td>\n",
       "      <td>NaN</td>\n",
       "    </tr>\n",
       "    <tr>\n",
       "      <th>2</th>\n",
       "      <td>dae7f2ef_a0eb0f08</td>\n",
       "      <td>f855223d_12422aaf</td>\n",
       "      <td>NaN</td>\n",
       "    </tr>\n",
       "    <tr>\n",
       "      <th>3</th>\n",
       "      <td>653464a_6d49face</td>\n",
       "      <td>7ac0271c_3677a2d6</td>\n",
       "      <td>NaN</td>\n",
       "    </tr>\n",
       "    <tr>\n",
       "      <th>4</th>\n",
       "      <td>ae33fd68_8c646d91</td>\n",
       "      <td>b66507c7_44b175d3</td>\n",
       "      <td>NaN</td>\n",
       "    </tr>\n",
       "  </tbody>\n",
       "</table>\n",
       "</div>"
      ],
      "text/plain": [
       "             person1            person2  score1\n",
       "0  1a78a273_69afff35  cbbb389d_6c185226     NaN\n",
       "1  b49793f1_89131c25  528b6768_4cfc6dfc     NaN\n",
       "2  dae7f2ef_a0eb0f08  f855223d_12422aaf     NaN\n",
       "3   653464a_6d49face  7ac0271c_3677a2d6     NaN\n",
       "4  ae33fd68_8c646d91  b66507c7_44b175d3     NaN"
      ]
     },
     "execution_count": 35,
     "metadata": {},
     "output_type": "execute_result"
    }
   ],
   "source": [
    "f1.head()"
   ]
  },
  {
   "cell_type": "code",
   "execution_count": 36,
   "metadata": {},
   "outputs": [
    {
     "data": {
      "text/plain": [
       "135644"
      ]
     },
     "execution_count": 36,
     "metadata": {},
     "output_type": "execute_result"
    }
   ],
   "source": [
    "len(f1)"
   ]
  },
  {
   "cell_type": "code",
   "execution_count": 37,
   "metadata": {
    "collapsed": true
   },
   "outputs": [],
   "source": [
    "f2 = f1.merge(scores, how = 'left', left_on = 'person2', right_on = 'person id')"
   ]
  },
  {
   "cell_type": "code",
   "execution_count": 38,
   "metadata": {},
   "outputs": [
    {
     "data": {
      "text/html": [
       "<div>\n",
       "<style>\n",
       "    .dataframe thead tr:only-child th {\n",
       "        text-align: right;\n",
       "    }\n",
       "\n",
       "    .dataframe thead th {\n",
       "        text-align: left;\n",
       "    }\n",
       "\n",
       "    .dataframe tbody tr th {\n",
       "        vertical-align: top;\n",
       "    }\n",
       "</style>\n",
       "<table border=\"1\" class=\"dataframe\">\n",
       "  <thead>\n",
       "    <tr style=\"text-align: right;\">\n",
       "      <th></th>\n",
       "      <th>person1</th>\n",
       "      <th>person2</th>\n",
       "      <th>score1</th>\n",
       "      <th>person id</th>\n",
       "      <th>score</th>\n",
       "    </tr>\n",
       "  </thead>\n",
       "  <tbody>\n",
       "    <tr>\n",
       "      <th>0</th>\n",
       "      <td>1a78a273_69afff35</td>\n",
       "      <td>cbbb389d_6c185226</td>\n",
       "      <td>NaN</td>\n",
       "      <td>NaN</td>\n",
       "      <td>NaN</td>\n",
       "    </tr>\n",
       "    <tr>\n",
       "      <th>1</th>\n",
       "      <td>b49793f1_89131c25</td>\n",
       "      <td>528b6768_4cfc6dfc</td>\n",
       "      <td>NaN</td>\n",
       "      <td>NaN</td>\n",
       "      <td>NaN</td>\n",
       "    </tr>\n",
       "    <tr>\n",
       "      <th>2</th>\n",
       "      <td>dae7f2ef_a0eb0f08</td>\n",
       "      <td>f855223d_12422aaf</td>\n",
       "      <td>NaN</td>\n",
       "      <td>NaN</td>\n",
       "      <td>NaN</td>\n",
       "    </tr>\n",
       "    <tr>\n",
       "      <th>3</th>\n",
       "      <td>653464a_6d49face</td>\n",
       "      <td>7ac0271c_3677a2d6</td>\n",
       "      <td>NaN</td>\n",
       "      <td>NaN</td>\n",
       "      <td>NaN</td>\n",
       "    </tr>\n",
       "    <tr>\n",
       "      <th>4</th>\n",
       "      <td>ae33fd68_8c646d91</td>\n",
       "      <td>b66507c7_44b175d3</td>\n",
       "      <td>NaN</td>\n",
       "      <td>NaN</td>\n",
       "      <td>NaN</td>\n",
       "    </tr>\n",
       "  </tbody>\n",
       "</table>\n",
       "</div>"
      ],
      "text/plain": [
       "             person1            person2  score1 person id  score\n",
       "0  1a78a273_69afff35  cbbb389d_6c185226     NaN       NaN    NaN\n",
       "1  b49793f1_89131c25  528b6768_4cfc6dfc     NaN       NaN    NaN\n",
       "2  dae7f2ef_a0eb0f08  f855223d_12422aaf     NaN       NaN    NaN\n",
       "3   653464a_6d49face  7ac0271c_3677a2d6     NaN       NaN    NaN\n",
       "4  ae33fd68_8c646d91  b66507c7_44b175d3     NaN       NaN    NaN"
      ]
     },
     "execution_count": 38,
     "metadata": {},
     "output_type": "execute_result"
    }
   ],
   "source": [
    "f2.head()"
   ]
  },
  {
   "cell_type": "code",
   "execution_count": 39,
   "metadata": {
    "collapsed": true
   },
   "outputs": [],
   "source": [
    "f2 = f2.drop('person id', axis = 1)\n",
    "f2 = f2.rename(columns = {\"score\": \"score2\"})"
   ]
  },
  {
   "cell_type": "code",
   "execution_count": 41,
   "metadata": {},
   "outputs": [
    {
     "data": {
      "text/html": [
       "<div>\n",
       "<style>\n",
       "    .dataframe thead tr:only-child th {\n",
       "        text-align: right;\n",
       "    }\n",
       "\n",
       "    .dataframe thead th {\n",
       "        text-align: left;\n",
       "    }\n",
       "\n",
       "    .dataframe tbody tr th {\n",
       "        vertical-align: top;\n",
       "    }\n",
       "</style>\n",
       "<table border=\"1\" class=\"dataframe\">\n",
       "  <thead>\n",
       "    <tr style=\"text-align: right;\">\n",
       "      <th></th>\n",
       "      <th>person1</th>\n",
       "      <th>person2</th>\n",
       "      <th>score1</th>\n",
       "      <th>score2</th>\n",
       "    </tr>\n",
       "  </thead>\n",
       "  <tbody>\n",
       "    <tr>\n",
       "      <th>0</th>\n",
       "      <td>1a78a273_69afff35</td>\n",
       "      <td>cbbb389d_6c185226</td>\n",
       "      <td>NaN</td>\n",
       "      <td>NaN</td>\n",
       "    </tr>\n",
       "    <tr>\n",
       "      <th>1</th>\n",
       "      <td>b49793f1_89131c25</td>\n",
       "      <td>528b6768_4cfc6dfc</td>\n",
       "      <td>NaN</td>\n",
       "      <td>NaN</td>\n",
       "    </tr>\n",
       "    <tr>\n",
       "      <th>2</th>\n",
       "      <td>dae7f2ef_a0eb0f08</td>\n",
       "      <td>f855223d_12422aaf</td>\n",
       "      <td>NaN</td>\n",
       "      <td>NaN</td>\n",
       "    </tr>\n",
       "    <tr>\n",
       "      <th>3</th>\n",
       "      <td>653464a_6d49face</td>\n",
       "      <td>7ac0271c_3677a2d6</td>\n",
       "      <td>NaN</td>\n",
       "      <td>NaN</td>\n",
       "    </tr>\n",
       "    <tr>\n",
       "      <th>4</th>\n",
       "      <td>ae33fd68_8c646d91</td>\n",
       "      <td>b66507c7_44b175d3</td>\n",
       "      <td>NaN</td>\n",
       "      <td>NaN</td>\n",
       "    </tr>\n",
       "  </tbody>\n",
       "</table>\n",
       "</div>"
      ],
      "text/plain": [
       "             person1            person2  score1  score2\n",
       "0  1a78a273_69afff35  cbbb389d_6c185226     NaN     NaN\n",
       "1  b49793f1_89131c25  528b6768_4cfc6dfc     NaN     NaN\n",
       "2  dae7f2ef_a0eb0f08  f855223d_12422aaf     NaN     NaN\n",
       "3   653464a_6d49face  7ac0271c_3677a2d6     NaN     NaN\n",
       "4  ae33fd68_8c646d91  b66507c7_44b175d3     NaN     NaN"
      ]
     },
     "execution_count": 41,
     "metadata": {},
     "output_type": "execute_result"
    }
   ],
   "source": [
    "f2.head()"
   ]
  },
  {
   "cell_type": "code",
   "execution_count": 42,
   "metadata": {},
   "outputs": [
    {
     "data": {
      "text/plain": [
       "135644"
      ]
     },
     "execution_count": 42,
     "metadata": {},
     "output_type": "execute_result"
    }
   ],
   "source": [
    "len(f2)"
   ]
  },
  {
   "cell_type": "code",
   "execution_count": 51,
   "metadata": {},
   "outputs": [
    {
     "data": {
      "text/html": [
       "<div>\n",
       "<style>\n",
       "    .dataframe thead tr:only-child th {\n",
       "        text-align: right;\n",
       "    }\n",
       "\n",
       "    .dataframe thead th {\n",
       "        text-align: left;\n",
       "    }\n",
       "\n",
       "    .dataframe tbody tr th {\n",
       "        vertical-align: top;\n",
       "    }\n",
       "</style>\n",
       "<table border=\"1\" class=\"dataframe\">\n",
       "  <thead>\n",
       "    <tr style=\"text-align: right;\">\n",
       "      <th></th>\n",
       "      <th>score1</th>\n",
       "      <th>score2</th>\n",
       "    </tr>\n",
       "  </thead>\n",
       "  <tbody>\n",
       "    <tr>\n",
       "      <th>count</th>\n",
       "      <td>135644.000000</td>\n",
       "      <td>135644.000000</td>\n",
       "    </tr>\n",
       "    <tr>\n",
       "      <th>mean</th>\n",
       "      <td>0.006768</td>\n",
       "      <td>-0.030175</td>\n",
       "    </tr>\n",
       "    <tr>\n",
       "      <th>std</th>\n",
       "      <td>0.919822</td>\n",
       "      <td>0.867689</td>\n",
       "    </tr>\n",
       "    <tr>\n",
       "      <th>min</th>\n",
       "      <td>-4.000000</td>\n",
       "      <td>-4.000000</td>\n",
       "    </tr>\n",
       "    <tr>\n",
       "      <th>25%</th>\n",
       "      <td>0.000000</td>\n",
       "      <td>0.000000</td>\n",
       "    </tr>\n",
       "    <tr>\n",
       "      <th>50%</th>\n",
       "      <td>0.000000</td>\n",
       "      <td>0.000000</td>\n",
       "    </tr>\n",
       "    <tr>\n",
       "      <th>75%</th>\n",
       "      <td>0.000000</td>\n",
       "      <td>0.000000</td>\n",
       "    </tr>\n",
       "    <tr>\n",
       "      <th>max</th>\n",
       "      <td>5.000000</td>\n",
       "      <td>5.000000</td>\n",
       "    </tr>\n",
       "  </tbody>\n",
       "</table>\n",
       "</div>"
      ],
      "text/plain": [
       "              score1         score2\n",
       "count  135644.000000  135644.000000\n",
       "mean        0.006768      -0.030175\n",
       "std         0.919822       0.867689\n",
       "min        -4.000000      -4.000000\n",
       "25%         0.000000       0.000000\n",
       "50%         0.000000       0.000000\n",
       "75%         0.000000       0.000000\n",
       "max         5.000000       5.000000"
      ]
     },
     "execution_count": 51,
     "metadata": {},
     "output_type": "execute_result"
    }
   ],
   "source": [
    "f2.describe()"
   ]
  },
  {
   "cell_type": "code",
   "execution_count": 44,
   "metadata": {
    "collapsed": true
   },
   "outputs": [],
   "source": [
    "foes_new = f2"
   ]
  },
  {
   "cell_type": "code",
   "execution_count": 48,
   "metadata": {
    "collapsed": true
   },
   "outputs": [],
   "source": [
    "## fill NA with 0\n",
    "foes_new['score1'].fillna(0, inplace=True)"
   ]
  },
  {
   "cell_type": "code",
   "execution_count": 50,
   "metadata": {
    "collapsed": true
   },
   "outputs": [],
   "source": [
    "foes_new['score2'].fillna(0, inplace=True)"
   ]
  },
  {
   "cell_type": "code",
   "execution_count": 63,
   "metadata": {
    "collapsed": true
   },
   "outputs": [],
   "source": [
    "foes_q = foes_new[(foes_new['score1'] > 0) & (foes_new['score2'] > 0)]"
   ]
  },
  {
   "cell_type": "code",
   "execution_count": 65,
   "metadata": {},
   "outputs": [
    {
     "data": {
      "text/plain": [
       "259"
      ]
     },
     "execution_count": 65,
     "metadata": {},
     "output_type": "execute_result"
    }
   ],
   "source": [
    "len(foes_q)"
   ]
  },
  {
   "cell_type": "code",
   "execution_count": 70,
   "metadata": {},
   "outputs": [
    {
     "data": {
      "text/plain": [
       "135644"
      ]
     },
     "execution_count": 70,
     "metadata": {},
     "output_type": "execute_result"
    }
   ],
   "source": [
    "len(foes_new)"
   ]
  },
  {
   "cell_type": "code",
   "execution_count": 69,
   "metadata": {},
   "outputs": [
    {
     "data": {
      "text/html": [
       "<div>\n",
       "<style>\n",
       "    .dataframe thead tr:only-child th {\n",
       "        text-align: right;\n",
       "    }\n",
       "\n",
       "    .dataframe thead th {\n",
       "        text-align: left;\n",
       "    }\n",
       "\n",
       "    .dataframe tbody tr th {\n",
       "        vertical-align: top;\n",
       "    }\n",
       "</style>\n",
       "<table border=\"1\" class=\"dataframe\">\n",
       "  <thead>\n",
       "    <tr style=\"text-align: right;\">\n",
       "      <th></th>\n",
       "      <th>person1</th>\n",
       "      <th>person2</th>\n",
       "      <th>score1</th>\n",
       "      <th>score2</th>\n",
       "    </tr>\n",
       "  </thead>\n",
       "  <tbody>\n",
       "    <tr>\n",
       "      <th>0</th>\n",
       "      <td>2ce1f07_cdd4f17e</td>\n",
       "      <td>258e3ae3_afaf2804</td>\n",
       "      <td>2.0</td>\n",
       "      <td>2.0</td>\n",
       "    </tr>\n",
       "    <tr>\n",
       "      <th>1</th>\n",
       "      <td>718ff97d_875e9587</td>\n",
       "      <td>12318fc_80f41db</td>\n",
       "      <td>2.0</td>\n",
       "      <td>2.0</td>\n",
       "    </tr>\n",
       "    <tr>\n",
       "      <th>2</th>\n",
       "      <td>bb891fa8_b2f18316</td>\n",
       "      <td>326fced_b2cbc85</td>\n",
       "      <td>2.0</td>\n",
       "      <td>2.0</td>\n",
       "    </tr>\n",
       "    <tr>\n",
       "      <th>3</th>\n",
       "      <td>11d46322_2c18b95d</td>\n",
       "      <td>2948ed6e_eb231cf7</td>\n",
       "      <td>2.0</td>\n",
       "      <td>2.0</td>\n",
       "    </tr>\n",
       "    <tr>\n",
       "      <th>4</th>\n",
       "      <td>612e3f7a_3ce2519d</td>\n",
       "      <td>34ddbc2f_91d54040</td>\n",
       "      <td>2.0</td>\n",
       "      <td>2.0</td>\n",
       "    </tr>\n",
       "    <tr>\n",
       "      <th>5</th>\n",
       "      <td>2859f13a_7f6124d7</td>\n",
       "      <td>8004eba5_3b3e18e8</td>\n",
       "      <td>1.0</td>\n",
       "      <td>2.0</td>\n",
       "    </tr>\n",
       "    <tr>\n",
       "      <th>6</th>\n",
       "      <td>479ee8d3_37fac876</td>\n",
       "      <td>b1d619fd_7357f9ab</td>\n",
       "      <td>2.0</td>\n",
       "      <td>2.0</td>\n",
       "    </tr>\n",
       "    <tr>\n",
       "      <th>7</th>\n",
       "      <td>aaf0dc33_5377b4f9</td>\n",
       "      <td>5a84de_ff37c82d</td>\n",
       "      <td>1.0</td>\n",
       "      <td>1.0</td>\n",
       "    </tr>\n",
       "    <tr>\n",
       "      <th>8</th>\n",
       "      <td>1801d773_ad28c52f</td>\n",
       "      <td>e1ffddcf_e29638f4</td>\n",
       "      <td>1.0</td>\n",
       "      <td>2.0</td>\n",
       "    </tr>\n",
       "    <tr>\n",
       "      <th>9</th>\n",
       "      <td>3660dca9_76de4216</td>\n",
       "      <td>f94fdac2_e2370bcb</td>\n",
       "      <td>3.0</td>\n",
       "      <td>2.0</td>\n",
       "    </tr>\n",
       "    <tr>\n",
       "      <th>10</th>\n",
       "      <td>e94e5197_ac0cfc01</td>\n",
       "      <td>3166f635_244cda27</td>\n",
       "      <td>2.0</td>\n",
       "      <td>2.0</td>\n",
       "    </tr>\n",
       "    <tr>\n",
       "      <th>11</th>\n",
       "      <td>c8e1d90_89a6ba1</td>\n",
       "      <td>3a827cab_264281a5</td>\n",
       "      <td>2.0</td>\n",
       "      <td>3.0</td>\n",
       "    </tr>\n",
       "    <tr>\n",
       "      <th>12</th>\n",
       "      <td>b3d276a7_f7faaee1</td>\n",
       "      <td>ac6340b3_be7cf36</td>\n",
       "      <td>1.0</td>\n",
       "      <td>1.0</td>\n",
       "    </tr>\n",
       "    <tr>\n",
       "      <th>13</th>\n",
       "      <td>2ce1f07_cdd4f17e</td>\n",
       "      <td>717a92c0_6561ef3a</td>\n",
       "      <td>2.0</td>\n",
       "      <td>2.0</td>\n",
       "    </tr>\n",
       "    <tr>\n",
       "      <th>14</th>\n",
       "      <td>1adad7eb_80ee595e</td>\n",
       "      <td>133d367c_81060f5</td>\n",
       "      <td>2.0</td>\n",
       "      <td>2.0</td>\n",
       "    </tr>\n",
       "    <tr>\n",
       "      <th>15</th>\n",
       "      <td>8898dae3_de9a27f2</td>\n",
       "      <td>e379c03a_61c3f1da</td>\n",
       "      <td>2.0</td>\n",
       "      <td>3.0</td>\n",
       "    </tr>\n",
       "    <tr>\n",
       "      <th>16</th>\n",
       "      <td>34ddbc2f_91d54040</td>\n",
       "      <td>c4524078_29268712</td>\n",
       "      <td>2.0</td>\n",
       "      <td>2.0</td>\n",
       "    </tr>\n",
       "    <tr>\n",
       "      <th>17</th>\n",
       "      <td>7077ed63_de96f676</td>\n",
       "      <td>ac6340b3_be7cf36</td>\n",
       "      <td>3.0</td>\n",
       "      <td>1.0</td>\n",
       "    </tr>\n",
       "    <tr>\n",
       "      <th>18</th>\n",
       "      <td>34ddbc2f_91d54040</td>\n",
       "      <td>ff73cd11_4dc7bdab</td>\n",
       "      <td>2.0</td>\n",
       "      <td>2.0</td>\n",
       "    </tr>\n",
       "    <tr>\n",
       "      <th>19</th>\n",
       "      <td>526a12f_a4af99dd</td>\n",
       "      <td>51ae3474_ba71d128</td>\n",
       "      <td>2.0</td>\n",
       "      <td>1.0</td>\n",
       "    </tr>\n",
       "  </tbody>\n",
       "</table>\n",
       "</div>"
      ],
      "text/plain": [
       "              person1            person2  score1  score2\n",
       "0    2ce1f07_cdd4f17e  258e3ae3_afaf2804     2.0     2.0\n",
       "1   718ff97d_875e9587    12318fc_80f41db     2.0     2.0\n",
       "2   bb891fa8_b2f18316    326fced_b2cbc85     2.0     2.0\n",
       "3   11d46322_2c18b95d  2948ed6e_eb231cf7     2.0     2.0\n",
       "4   612e3f7a_3ce2519d  34ddbc2f_91d54040     2.0     2.0\n",
       "5   2859f13a_7f6124d7  8004eba5_3b3e18e8     1.0     2.0\n",
       "6   479ee8d3_37fac876  b1d619fd_7357f9ab     2.0     2.0\n",
       "7   aaf0dc33_5377b4f9    5a84de_ff37c82d     1.0     1.0\n",
       "8   1801d773_ad28c52f  e1ffddcf_e29638f4     1.0     2.0\n",
       "9   3660dca9_76de4216  f94fdac2_e2370bcb     3.0     2.0\n",
       "10  e94e5197_ac0cfc01  3166f635_244cda27     2.0     2.0\n",
       "11    c8e1d90_89a6ba1  3a827cab_264281a5     2.0     3.0\n",
       "12  b3d276a7_f7faaee1   ac6340b3_be7cf36     1.0     1.0\n",
       "13   2ce1f07_cdd4f17e  717a92c0_6561ef3a     2.0     2.0\n",
       "14  1adad7eb_80ee595e   133d367c_81060f5     2.0     2.0\n",
       "15  8898dae3_de9a27f2  e379c03a_61c3f1da     2.0     3.0\n",
       "16  34ddbc2f_91d54040  c4524078_29268712     2.0     2.0\n",
       "17  7077ed63_de96f676   ac6340b3_be7cf36     3.0     1.0\n",
       "18  34ddbc2f_91d54040  ff73cd11_4dc7bdab     2.0     2.0\n",
       "19   526a12f_a4af99dd  51ae3474_ba71d128     2.0     1.0"
      ]
     },
     "execution_count": 69,
     "metadata": {},
     "output_type": "execute_result"
    }
   ],
   "source": [
    "foes_q[:20]     # verified based on original tables "
   ]
  },
  {
   "cell_type": "code",
   "execution_count": 68,
   "metadata": {
    "collapsed": true
   },
   "outputs": [],
   "source": [
    "foes_q.reset_index(drop=True, inplace = True)"
   ]
  },
  {
   "cell_type": "code",
   "execution_count": 71,
   "metadata": {
    "collapsed": true
   },
   "outputs": [],
   "source": [
    "### pickle foes_new and foes_q\n",
    "with open('foes_new.pkl', 'wb') as file:\n",
    "    pickle.dump(foes_new, file)\n"
   ]
  },
  {
   "cell_type": "code",
   "execution_count": 74,
   "metadata": {
    "collapsed": true
   },
   "outputs": [],
   "source": [
    "with open('foes_q.pkl', 'wb') as file:\n",
    "    pickle.dump(foes_q, file)"
   ]
  },
  {
   "cell_type": "code",
   "execution_count": 73,
   "metadata": {
    "collapsed": true
   },
   "outputs": [],
   "source": [
    "#foes_new.head()"
   ]
  },
  {
   "cell_type": "markdown",
   "metadata": {
    "collapsed": true
   },
   "source": [
    "### Merging friends and scores (left merge on person id)"
   ]
  },
  {
   "cell_type": "code",
   "execution_count": 3,
   "metadata": {
    "collapsed": true
   },
   "outputs": [],
   "source": [
    "f1 = friends.merge(scores, how = 'left', left_on = 'person1', right_on = 'person id')"
   ]
  },
  {
   "cell_type": "code",
   "execution_count": 7,
   "metadata": {},
   "outputs": [
    {
     "data": {
      "text/html": [
       "<div>\n",
       "<style>\n",
       "    .dataframe thead tr:only-child th {\n",
       "        text-align: right;\n",
       "    }\n",
       "\n",
       "    .dataframe thead th {\n",
       "        text-align: left;\n",
       "    }\n",
       "\n",
       "    .dataframe tbody tr th {\n",
       "        vertical-align: top;\n",
       "    }\n",
       "</style>\n",
       "<table border=\"1\" class=\"dataframe\">\n",
       "  <thead>\n",
       "    <tr style=\"text-align: right;\">\n",
       "      <th></th>\n",
       "      <th>person1</th>\n",
       "      <th>person2</th>\n",
       "      <th>score1</th>\n",
       "    </tr>\n",
       "  </thead>\n",
       "  <tbody>\n",
       "    <tr>\n",
       "      <th>0</th>\n",
       "      <td>441e08b1_a0431c52</td>\n",
       "      <td>404021bf_898326ec</td>\n",
       "      <td>NaN</td>\n",
       "    </tr>\n",
       "    <tr>\n",
       "      <th>1</th>\n",
       "      <td>3f4929ef_956613b7</td>\n",
       "      <td>d6031447_a684b614</td>\n",
       "      <td>NaN</td>\n",
       "    </tr>\n",
       "    <tr>\n",
       "      <th>2</th>\n",
       "      <td>1f75eb7f_e1d4405b</td>\n",
       "      <td>5ccf7530_5343d32b</td>\n",
       "      <td>NaN</td>\n",
       "    </tr>\n",
       "    <tr>\n",
       "      <th>3</th>\n",
       "      <td>9b6edd00_179def5</td>\n",
       "      <td>e7d1222f_49ff1c63</td>\n",
       "      <td>NaN</td>\n",
       "    </tr>\n",
       "    <tr>\n",
       "      <th>4</th>\n",
       "      <td>130181c4_27cb3b23</td>\n",
       "      <td>536c3152_db65659b</td>\n",
       "      <td>NaN</td>\n",
       "    </tr>\n",
       "  </tbody>\n",
       "</table>\n",
       "</div>"
      ],
      "text/plain": [
       "             person1            person2  score1\n",
       "0  441e08b1_a0431c52  404021bf_898326ec     NaN\n",
       "1  3f4929ef_956613b7  d6031447_a684b614     NaN\n",
       "2  1f75eb7f_e1d4405b  5ccf7530_5343d32b     NaN\n",
       "3   9b6edd00_179def5  e7d1222f_49ff1c63     NaN\n",
       "4  130181c4_27cb3b23  536c3152_db65659b     NaN"
      ]
     },
     "execution_count": 7,
     "metadata": {},
     "output_type": "execute_result"
    }
   ],
   "source": [
    "f1.head()"
   ]
  },
  {
   "cell_type": "code",
   "execution_count": 6,
   "metadata": {
    "collapsed": true
   },
   "outputs": [],
   "source": [
    "f1 = f1.drop('person id', axis = 1)\n",
    "f1 = f1.rename(columns = {\"score\": \"score1\"})"
   ]
  },
  {
   "cell_type": "code",
   "execution_count": 8,
   "metadata": {},
   "outputs": [
    {
     "data": {
      "text/plain": [
       "474835"
      ]
     },
     "execution_count": 8,
     "metadata": {},
     "output_type": "execute_result"
    }
   ],
   "source": [
    "len(f1)"
   ]
  },
  {
   "cell_type": "code",
   "execution_count": 9,
   "metadata": {
    "collapsed": true
   },
   "outputs": [],
   "source": [
    "f2 = f1.merge(scores, how = 'left', left_on = 'person2', right_on = 'person id')"
   ]
  },
  {
   "cell_type": "code",
   "execution_count": 10,
   "metadata": {
    "collapsed": true
   },
   "outputs": [],
   "source": [
    "f2 = f2.drop('person id', axis = 1)\n",
    "f2 = f2.rename(columns = {\"score\": \"score2\"})"
   ]
  },
  {
   "cell_type": "code",
   "execution_count": 11,
   "metadata": {},
   "outputs": [
    {
     "data": {
      "text/html": [
       "<div>\n",
       "<style>\n",
       "    .dataframe thead tr:only-child th {\n",
       "        text-align: right;\n",
       "    }\n",
       "\n",
       "    .dataframe thead th {\n",
       "        text-align: left;\n",
       "    }\n",
       "\n",
       "    .dataframe tbody tr th {\n",
       "        vertical-align: top;\n",
       "    }\n",
       "</style>\n",
       "<table border=\"1\" class=\"dataframe\">\n",
       "  <thead>\n",
       "    <tr style=\"text-align: right;\">\n",
       "      <th></th>\n",
       "      <th>person1</th>\n",
       "      <th>person2</th>\n",
       "      <th>score1</th>\n",
       "      <th>score2</th>\n",
       "    </tr>\n",
       "  </thead>\n",
       "  <tbody>\n",
       "    <tr>\n",
       "      <th>0</th>\n",
       "      <td>441e08b1_a0431c52</td>\n",
       "      <td>404021bf_898326ec</td>\n",
       "      <td>NaN</td>\n",
       "      <td>NaN</td>\n",
       "    </tr>\n",
       "    <tr>\n",
       "      <th>1</th>\n",
       "      <td>3f4929ef_956613b7</td>\n",
       "      <td>d6031447_a684b614</td>\n",
       "      <td>NaN</td>\n",
       "      <td>NaN</td>\n",
       "    </tr>\n",
       "    <tr>\n",
       "      <th>2</th>\n",
       "      <td>1f75eb7f_e1d4405b</td>\n",
       "      <td>5ccf7530_5343d32b</td>\n",
       "      <td>NaN</td>\n",
       "      <td>NaN</td>\n",
       "    </tr>\n",
       "    <tr>\n",
       "      <th>3</th>\n",
       "      <td>9b6edd00_179def5</td>\n",
       "      <td>e7d1222f_49ff1c63</td>\n",
       "      <td>NaN</td>\n",
       "      <td>NaN</td>\n",
       "    </tr>\n",
       "    <tr>\n",
       "      <th>4</th>\n",
       "      <td>130181c4_27cb3b23</td>\n",
       "      <td>536c3152_db65659b</td>\n",
       "      <td>NaN</td>\n",
       "      <td>NaN</td>\n",
       "    </tr>\n",
       "  </tbody>\n",
       "</table>\n",
       "</div>"
      ],
      "text/plain": [
       "             person1            person2  score1  score2\n",
       "0  441e08b1_a0431c52  404021bf_898326ec     NaN     NaN\n",
       "1  3f4929ef_956613b7  d6031447_a684b614     NaN     NaN\n",
       "2  1f75eb7f_e1d4405b  5ccf7530_5343d32b     NaN     NaN\n",
       "3   9b6edd00_179def5  e7d1222f_49ff1c63     NaN     NaN\n",
       "4  130181c4_27cb3b23  536c3152_db65659b     NaN     NaN"
      ]
     },
     "execution_count": 11,
     "metadata": {},
     "output_type": "execute_result"
    }
   ],
   "source": [
    "f2.head()"
   ]
  },
  {
   "cell_type": "code",
   "execution_count": 12,
   "metadata": {},
   "outputs": [
    {
     "data": {
      "text/html": [
       "<div>\n",
       "<style>\n",
       "    .dataframe thead tr:only-child th {\n",
       "        text-align: right;\n",
       "    }\n",
       "\n",
       "    .dataframe thead th {\n",
       "        text-align: left;\n",
       "    }\n",
       "\n",
       "    .dataframe tbody tr th {\n",
       "        vertical-align: top;\n",
       "    }\n",
       "</style>\n",
       "<table border=\"1\" class=\"dataframe\">\n",
       "  <thead>\n",
       "    <tr style=\"text-align: right;\">\n",
       "      <th></th>\n",
       "      <th>score1</th>\n",
       "      <th>score2</th>\n",
       "    </tr>\n",
       "  </thead>\n",
       "  <tbody>\n",
       "    <tr>\n",
       "      <th>count</th>\n",
       "      <td>56788.000000</td>\n",
       "      <td>49027.000000</td>\n",
       "    </tr>\n",
       "    <tr>\n",
       "      <th>mean</th>\n",
       "      <td>-0.805786</td>\n",
       "      <td>-0.652171</td>\n",
       "    </tr>\n",
       "    <tr>\n",
       "      <th>std</th>\n",
       "      <td>1.916858</td>\n",
       "      <td>1.985760</td>\n",
       "    </tr>\n",
       "    <tr>\n",
       "      <th>min</th>\n",
       "      <td>-4.000000</td>\n",
       "      <td>-4.000000</td>\n",
       "    </tr>\n",
       "    <tr>\n",
       "      <th>25%</th>\n",
       "      <td>-2.000000</td>\n",
       "      <td>-2.000000</td>\n",
       "    </tr>\n",
       "    <tr>\n",
       "      <th>50%</th>\n",
       "      <td>-2.000000</td>\n",
       "      <td>-2.000000</td>\n",
       "    </tr>\n",
       "    <tr>\n",
       "      <th>75%</th>\n",
       "      <td>1.000000</td>\n",
       "      <td>2.000000</td>\n",
       "    </tr>\n",
       "    <tr>\n",
       "      <th>max</th>\n",
       "      <td>5.000000</td>\n",
       "      <td>5.000000</td>\n",
       "    </tr>\n",
       "  </tbody>\n",
       "</table>\n",
       "</div>"
      ],
      "text/plain": [
       "             score1        score2\n",
       "count  56788.000000  49027.000000\n",
       "mean      -0.805786     -0.652171\n",
       "std        1.916858      1.985760\n",
       "min       -4.000000     -4.000000\n",
       "25%       -2.000000     -2.000000\n",
       "50%       -2.000000     -2.000000\n",
       "75%        1.000000      2.000000\n",
       "max        5.000000      5.000000"
      ]
     },
     "execution_count": 12,
     "metadata": {},
     "output_type": "execute_result"
    }
   ],
   "source": [
    "f2.describe()"
   ]
  },
  {
   "cell_type": "code",
   "execution_count": 13,
   "metadata": {
    "collapsed": true
   },
   "outputs": [],
   "source": [
    "friends_new = f2"
   ]
  },
  {
   "cell_type": "code",
   "execution_count": 18,
   "metadata": {},
   "outputs": [
    {
     "data": {
      "text/html": [
       "<div>\n",
       "<style>\n",
       "    .dataframe thead tr:only-child th {\n",
       "        text-align: right;\n",
       "    }\n",
       "\n",
       "    .dataframe thead th {\n",
       "        text-align: left;\n",
       "    }\n",
       "\n",
       "    .dataframe tbody tr th {\n",
       "        vertical-align: top;\n",
       "    }\n",
       "</style>\n",
       "<table border=\"1\" class=\"dataframe\">\n",
       "  <thead>\n",
       "    <tr style=\"text-align: right;\">\n",
       "      <th></th>\n",
       "      <th>person1</th>\n",
       "      <th>person2</th>\n",
       "      <th>score1</th>\n",
       "      <th>score2</th>\n",
       "    </tr>\n",
       "  </thead>\n",
       "  <tbody>\n",
       "    <tr>\n",
       "      <th>0</th>\n",
       "      <td>441e08b1_a0431c52</td>\n",
       "      <td>404021bf_898326ec</td>\n",
       "      <td>NaN</td>\n",
       "      <td>NaN</td>\n",
       "    </tr>\n",
       "    <tr>\n",
       "      <th>1</th>\n",
       "      <td>3f4929ef_956613b7</td>\n",
       "      <td>d6031447_a684b614</td>\n",
       "      <td>NaN</td>\n",
       "      <td>NaN</td>\n",
       "    </tr>\n",
       "    <tr>\n",
       "      <th>2</th>\n",
       "      <td>1f75eb7f_e1d4405b</td>\n",
       "      <td>5ccf7530_5343d32b</td>\n",
       "      <td>NaN</td>\n",
       "      <td>NaN</td>\n",
       "    </tr>\n",
       "    <tr>\n",
       "      <th>3</th>\n",
       "      <td>9b6edd00_179def5</td>\n",
       "      <td>e7d1222f_49ff1c63</td>\n",
       "      <td>NaN</td>\n",
       "      <td>NaN</td>\n",
       "    </tr>\n",
       "    <tr>\n",
       "      <th>4</th>\n",
       "      <td>130181c4_27cb3b23</td>\n",
       "      <td>536c3152_db65659b</td>\n",
       "      <td>NaN</td>\n",
       "      <td>NaN</td>\n",
       "    </tr>\n",
       "  </tbody>\n",
       "</table>\n",
       "</div>"
      ],
      "text/plain": [
       "             person1            person2  score1  score2\n",
       "0  441e08b1_a0431c52  404021bf_898326ec     NaN     NaN\n",
       "1  3f4929ef_956613b7  d6031447_a684b614     NaN     NaN\n",
       "2  1f75eb7f_e1d4405b  5ccf7530_5343d32b     NaN     NaN\n",
       "3   9b6edd00_179def5  e7d1222f_49ff1c63     NaN     NaN\n",
       "4  130181c4_27cb3b23  536c3152_db65659b     NaN     NaN"
      ]
     },
     "execution_count": 18,
     "metadata": {},
     "output_type": "execute_result"
    }
   ],
   "source": [
    "f2.head()"
   ]
  },
  {
   "cell_type": "code",
   "execution_count": 19,
   "metadata": {
    "collapsed": true
   },
   "outputs": [],
   "source": [
    "friends_new['score1'].fillna(0, inplace=True)\n",
    "friends_new['score2'].fillna(0, inplace=True)"
   ]
  },
  {
   "cell_type": "code",
   "execution_count": 20,
   "metadata": {},
   "outputs": [
    {
     "data": {
      "text/html": [
       "<div>\n",
       "<style>\n",
       "    .dataframe thead tr:only-child th {\n",
       "        text-align: right;\n",
       "    }\n",
       "\n",
       "    .dataframe thead th {\n",
       "        text-align: left;\n",
       "    }\n",
       "\n",
       "    .dataframe tbody tr th {\n",
       "        vertical-align: top;\n",
       "    }\n",
       "</style>\n",
       "<table border=\"1\" class=\"dataframe\">\n",
       "  <thead>\n",
       "    <tr style=\"text-align: right;\">\n",
       "      <th></th>\n",
       "      <th>person1</th>\n",
       "      <th>person2</th>\n",
       "      <th>score1</th>\n",
       "      <th>score2</th>\n",
       "    </tr>\n",
       "  </thead>\n",
       "  <tbody>\n",
       "    <tr>\n",
       "      <th>0</th>\n",
       "      <td>441e08b1_a0431c52</td>\n",
       "      <td>404021bf_898326ec</td>\n",
       "      <td>0.0</td>\n",
       "      <td>0.0</td>\n",
       "    </tr>\n",
       "    <tr>\n",
       "      <th>1</th>\n",
       "      <td>3f4929ef_956613b7</td>\n",
       "      <td>d6031447_a684b614</td>\n",
       "      <td>0.0</td>\n",
       "      <td>0.0</td>\n",
       "    </tr>\n",
       "    <tr>\n",
       "      <th>2</th>\n",
       "      <td>1f75eb7f_e1d4405b</td>\n",
       "      <td>5ccf7530_5343d32b</td>\n",
       "      <td>0.0</td>\n",
       "      <td>0.0</td>\n",
       "    </tr>\n",
       "    <tr>\n",
       "      <th>3</th>\n",
       "      <td>9b6edd00_179def5</td>\n",
       "      <td>e7d1222f_49ff1c63</td>\n",
       "      <td>0.0</td>\n",
       "      <td>0.0</td>\n",
       "    </tr>\n",
       "    <tr>\n",
       "      <th>4</th>\n",
       "      <td>130181c4_27cb3b23</td>\n",
       "      <td>536c3152_db65659b</td>\n",
       "      <td>0.0</td>\n",
       "      <td>0.0</td>\n",
       "    </tr>\n",
       "  </tbody>\n",
       "</table>\n",
       "</div>"
      ],
      "text/plain": [
       "             person1            person2  score1  score2\n",
       "0  441e08b1_a0431c52  404021bf_898326ec     0.0     0.0\n",
       "1  3f4929ef_956613b7  d6031447_a684b614     0.0     0.0\n",
       "2  1f75eb7f_e1d4405b  5ccf7530_5343d32b     0.0     0.0\n",
       "3   9b6edd00_179def5  e7d1222f_49ff1c63     0.0     0.0\n",
       "4  130181c4_27cb3b23  536c3152_db65659b     0.0     0.0"
      ]
     },
     "execution_count": 20,
     "metadata": {},
     "output_type": "execute_result"
    }
   ],
   "source": [
    "friends_new.head()"
   ]
  },
  {
   "cell_type": "code",
   "execution_count": 26,
   "metadata": {},
   "outputs": [
    {
     "data": {
      "text/html": [
       "<div>\n",
       "<style>\n",
       "    .dataframe thead tr:only-child th {\n",
       "        text-align: right;\n",
       "    }\n",
       "\n",
       "    .dataframe thead th {\n",
       "        text-align: left;\n",
       "    }\n",
       "\n",
       "    .dataframe tbody tr th {\n",
       "        vertical-align: top;\n",
       "    }\n",
       "</style>\n",
       "<table border=\"1\" class=\"dataframe\">\n",
       "  <thead>\n",
       "    <tr style=\"text-align: right;\">\n",
       "      <th></th>\n",
       "      <th>person1</th>\n",
       "      <th>person2</th>\n",
       "      <th>score1</th>\n",
       "      <th>score2</th>\n",
       "    </tr>\n",
       "  </thead>\n",
       "  <tbody>\n",
       "    <tr>\n",
       "      <th>67</th>\n",
       "      <td>694d36b5_a4804f20</td>\n",
       "      <td>23bf40f9_39fcc80c</td>\n",
       "      <td>-4.0</td>\n",
       "      <td>-4.0</td>\n",
       "    </tr>\n",
       "    <tr>\n",
       "      <th>162</th>\n",
       "      <td>b6156075_219901ae</td>\n",
       "      <td>6c4e4047_afe4cf71</td>\n",
       "      <td>-2.0</td>\n",
       "      <td>-2.0</td>\n",
       "    </tr>\n",
       "    <tr>\n",
       "      <th>228</th>\n",
       "      <td>ba335400_fb20ba06</td>\n",
       "      <td>1632bec2_52d70733</td>\n",
       "      <td>-3.0</td>\n",
       "      <td>-3.0</td>\n",
       "    </tr>\n",
       "    <tr>\n",
       "      <th>266</th>\n",
       "      <td>7077ed63_de96f676</td>\n",
       "      <td>352e8c74_919a8d</td>\n",
       "      <td>3.0</td>\n",
       "      <td>-2.0</td>\n",
       "    </tr>\n",
       "    <tr>\n",
       "      <th>387</th>\n",
       "      <td>4a2bd5e2_8deb71c8</td>\n",
       "      <td>4b5451ee_2ef13224</td>\n",
       "      <td>-1.0</td>\n",
       "      <td>-2.0</td>\n",
       "    </tr>\n",
       "  </tbody>\n",
       "</table>\n",
       "</div>"
      ],
      "text/plain": [
       "               person1            person2  score1  score2\n",
       "67   694d36b5_a4804f20  23bf40f9_39fcc80c    -4.0    -4.0\n",
       "162  b6156075_219901ae  6c4e4047_afe4cf71    -2.0    -2.0\n",
       "228  ba335400_fb20ba06  1632bec2_52d70733    -3.0    -3.0\n",
       "266  7077ed63_de96f676    352e8c74_919a8d     3.0    -2.0\n",
       "387  4a2bd5e2_8deb71c8  4b5451ee_2ef13224    -1.0    -2.0"
      ]
     },
     "execution_count": 26,
     "metadata": {},
     "output_type": "execute_result"
    }
   ],
   "source": [
    "friends_new[(friends_new['score1'] != 0) & (friends_new['score2'] != 0)].head()    # verified!"
   ]
  },
  {
   "cell_type": "code",
   "execution_count": 24,
   "metadata": {
    "collapsed": true
   },
   "outputs": [],
   "source": [
    "#friends_new.loc[friends_new['score1']!= 0].head()"
   ]
  },
  {
   "cell_type": "code",
   "execution_count": 28,
   "metadata": {},
   "outputs": [
    {
     "data": {
      "text/plain": [
       "474835"
      ]
     },
     "execution_count": 28,
     "metadata": {},
     "output_type": "execute_result"
    }
   ],
   "source": [
    "len(friends_new)"
   ]
  },
  {
   "cell_type": "code",
   "execution_count": 29,
   "metadata": {
    "collapsed": true
   },
   "outputs": [],
   "source": [
    "with open('friends_new.pkl', 'wb') as file:\n",
    "    pickle.dump(friends_new, file)"
   ]
  },
  {
   "cell_type": "markdown",
   "metadata": {},
   "source": [
    "### removing false records in foe table"
   ]
  },
  {
   "cell_type": "code",
   "execution_count": 40,
   "metadata": {
    "collapsed": true
   },
   "outputs": [],
   "source": [
    "with open('foes_new.pkl', 'rb') as file:\n",
    "    foes = pickle.load(file)"
   ]
  },
  {
   "cell_type": "code",
   "execution_count": 30,
   "metadata": {
    "collapsed": true
   },
   "outputs": [],
   "source": [
    "with open('foes_q.pkl', 'rb') as file:\n",
    "    foes_q = pickle.load(file)"
   ]
  },
  {
   "cell_type": "code",
   "execution_count": 57,
   "metadata": {},
   "outputs": [
    {
     "data": {
      "text/plain": [
       "259"
      ]
     },
     "execution_count": 57,
     "metadata": {},
     "output_type": "execute_result"
    }
   ],
   "source": [
    "len(foes_q)"
   ]
  },
  {
   "cell_type": "code",
   "execution_count": 58,
   "metadata": {},
   "outputs": [
    {
     "data": {
      "text/plain": [
       "135644"
      ]
     },
     "execution_count": 58,
     "metadata": {},
     "output_type": "execute_result"
    }
   ],
   "source": [
    "len(foes)"
   ]
  },
  {
   "cell_type": "code",
   "execution_count": 66,
   "metadata": {
    "collapsed": true
   },
   "outputs": [],
   "source": [
    "foes_q = foes[(foes['score1'] > 0) & (foes['score2'] > 0)]"
   ]
  },
  {
   "cell_type": "code",
   "execution_count": 67,
   "metadata": {},
   "outputs": [
    {
     "data": {
      "text/html": [
       "<div>\n",
       "<style>\n",
       "    .dataframe thead tr:only-child th {\n",
       "        text-align: right;\n",
       "    }\n",
       "\n",
       "    .dataframe thead th {\n",
       "        text-align: left;\n",
       "    }\n",
       "\n",
       "    .dataframe tbody tr th {\n",
       "        vertical-align: top;\n",
       "    }\n",
       "</style>\n",
       "<table border=\"1\" class=\"dataframe\">\n",
       "  <thead>\n",
       "    <tr style=\"text-align: right;\">\n",
       "      <th></th>\n",
       "      <th>person1</th>\n",
       "      <th>person2</th>\n",
       "      <th>score1</th>\n",
       "      <th>score2</th>\n",
       "    </tr>\n",
       "  </thead>\n",
       "  <tbody>\n",
       "    <tr>\n",
       "      <th>329</th>\n",
       "      <td>2ce1f07_cdd4f17e</td>\n",
       "      <td>258e3ae3_afaf2804</td>\n",
       "      <td>2.0</td>\n",
       "      <td>2.0</td>\n",
       "    </tr>\n",
       "    <tr>\n",
       "      <th>432</th>\n",
       "      <td>718ff97d_875e9587</td>\n",
       "      <td>12318fc_80f41db</td>\n",
       "      <td>2.0</td>\n",
       "      <td>2.0</td>\n",
       "    </tr>\n",
       "    <tr>\n",
       "      <th>1123</th>\n",
       "      <td>bb891fa8_b2f18316</td>\n",
       "      <td>326fced_b2cbc85</td>\n",
       "      <td>2.0</td>\n",
       "      <td>2.0</td>\n",
       "    </tr>\n",
       "    <tr>\n",
       "      <th>1215</th>\n",
       "      <td>11d46322_2c18b95d</td>\n",
       "      <td>2948ed6e_eb231cf7</td>\n",
       "      <td>2.0</td>\n",
       "      <td>2.0</td>\n",
       "    </tr>\n",
       "    <tr>\n",
       "      <th>1298</th>\n",
       "      <td>612e3f7a_3ce2519d</td>\n",
       "      <td>34ddbc2f_91d54040</td>\n",
       "      <td>2.0</td>\n",
       "      <td>2.0</td>\n",
       "    </tr>\n",
       "  </tbody>\n",
       "</table>\n",
       "</div>"
      ],
      "text/plain": [
       "                person1            person2  score1  score2\n",
       "329    2ce1f07_cdd4f17e  258e3ae3_afaf2804     2.0     2.0\n",
       "432   718ff97d_875e9587    12318fc_80f41db     2.0     2.0\n",
       "1123  bb891fa8_b2f18316    326fced_b2cbc85     2.0     2.0\n",
       "1215  11d46322_2c18b95d  2948ed6e_eb231cf7     2.0     2.0\n",
       "1298  612e3f7a_3ce2519d  34ddbc2f_91d54040     2.0     2.0"
      ]
     },
     "execution_count": 67,
     "metadata": {},
     "output_type": "execute_result"
    }
   ],
   "source": [
    "foes_q.head()"
   ]
  },
  {
   "cell_type": "code",
   "execution_count": 68,
   "metadata": {},
   "outputs": [
    {
     "data": {
      "text/plain": [
       "259"
      ]
     },
     "execution_count": 68,
     "metadata": {},
     "output_type": "execute_result"
    }
   ],
   "source": [
    "len(foes_q)"
   ]
  },
  {
   "cell_type": "code",
   "execution_count": 69,
   "metadata": {
    "collapsed": true
   },
   "outputs": [],
   "source": [
    "# true foes\n",
    "foes_true = foes[~foes.index.isin(foes_q.index)]    "
   ]
  },
  {
   "cell_type": "code",
   "execution_count": 70,
   "metadata": {},
   "outputs": [
    {
     "data": {
      "text/html": [
       "<div>\n",
       "<style>\n",
       "    .dataframe thead tr:only-child th {\n",
       "        text-align: right;\n",
       "    }\n",
       "\n",
       "    .dataframe thead th {\n",
       "        text-align: left;\n",
       "    }\n",
       "\n",
       "    .dataframe tbody tr th {\n",
       "        vertical-align: top;\n",
       "    }\n",
       "</style>\n",
       "<table border=\"1\" class=\"dataframe\">\n",
       "  <thead>\n",
       "    <tr style=\"text-align: right;\">\n",
       "      <th></th>\n",
       "      <th>person1</th>\n",
       "      <th>person2</th>\n",
       "      <th>score1</th>\n",
       "      <th>score2</th>\n",
       "    </tr>\n",
       "  </thead>\n",
       "  <tbody>\n",
       "    <tr>\n",
       "      <th>0</th>\n",
       "      <td>1a78a273_69afff35</td>\n",
       "      <td>cbbb389d_6c185226</td>\n",
       "      <td>0.0</td>\n",
       "      <td>0.0</td>\n",
       "    </tr>\n",
       "    <tr>\n",
       "      <th>1</th>\n",
       "      <td>b49793f1_89131c25</td>\n",
       "      <td>528b6768_4cfc6dfc</td>\n",
       "      <td>0.0</td>\n",
       "      <td>0.0</td>\n",
       "    </tr>\n",
       "    <tr>\n",
       "      <th>2</th>\n",
       "      <td>dae7f2ef_a0eb0f08</td>\n",
       "      <td>f855223d_12422aaf</td>\n",
       "      <td>0.0</td>\n",
       "      <td>0.0</td>\n",
       "    </tr>\n",
       "    <tr>\n",
       "      <th>3</th>\n",
       "      <td>653464a_6d49face</td>\n",
       "      <td>7ac0271c_3677a2d6</td>\n",
       "      <td>0.0</td>\n",
       "      <td>0.0</td>\n",
       "    </tr>\n",
       "    <tr>\n",
       "      <th>4</th>\n",
       "      <td>ae33fd68_8c646d91</td>\n",
       "      <td>b66507c7_44b175d3</td>\n",
       "      <td>0.0</td>\n",
       "      <td>0.0</td>\n",
       "    </tr>\n",
       "  </tbody>\n",
       "</table>\n",
       "</div>"
      ],
      "text/plain": [
       "             person1            person2  score1  score2\n",
       "0  1a78a273_69afff35  cbbb389d_6c185226     0.0     0.0\n",
       "1  b49793f1_89131c25  528b6768_4cfc6dfc     0.0     0.0\n",
       "2  dae7f2ef_a0eb0f08  f855223d_12422aaf     0.0     0.0\n",
       "3   653464a_6d49face  7ac0271c_3677a2d6     0.0     0.0\n",
       "4  ae33fd68_8c646d91  b66507c7_44b175d3     0.0     0.0"
      ]
     },
     "execution_count": 70,
     "metadata": {},
     "output_type": "execute_result"
    }
   ],
   "source": [
    "foes_true.head()"
   ]
  },
  {
   "cell_type": "code",
   "execution_count": 71,
   "metadata": {},
   "outputs": [
    {
     "data": {
      "text/plain": [
       "135385"
      ]
     },
     "execution_count": 71,
     "metadata": {},
     "output_type": "execute_result"
    }
   ],
   "source": [
    "len(foes_true)    # make sense: 135644 - 259 = 135385"
   ]
  },
  {
   "cell_type": "code",
   "execution_count": 72,
   "metadata": {
    "collapsed": true
   },
   "outputs": [],
   "source": [
    "foes_true.reset_index(drop=True, inplace = True)"
   ]
  },
  {
   "cell_type": "code",
   "execution_count": 74,
   "metadata": {
    "collapsed": true
   },
   "outputs": [],
   "source": [
    "#foes_true"
   ]
  },
  {
   "cell_type": "code",
   "execution_count": 75,
   "metadata": {
    "collapsed": true
   },
   "outputs": [],
   "source": [
    "# pickle true foes\n",
    "with open('foes_true.pkl', 'wb') as file:\n",
    "    pickle.dump(foes_true, file)"
   ]
  },
  {
   "cell_type": "markdown",
   "metadata": {},
   "source": [
    "### subset of friends and foes (at least one score is non-zero in each row)####"
   ]
  },
  {
   "cell_type": "code",
   "execution_count": 9,
   "metadata": {
    "collapsed": true
   },
   "outputs": [],
   "source": [
    "with open('foes_true.pkl', 'rb') as file:\n",
    "    foes = pickle.load(file)"
   ]
  },
  {
   "cell_type": "code",
   "execution_count": 6,
   "metadata": {
    "collapsed": true
   },
   "outputs": [],
   "source": [
    "with open('friends_new.pkl', 'rb') as file:\n",
    "    friends = pickle.load(file)"
   ]
  },
  {
   "cell_type": "code",
   "execution_count": 10,
   "metadata": {},
   "outputs": [
    {
     "data": {
      "text/plain": [
       "135385"
      ]
     },
     "execution_count": 10,
     "metadata": {},
     "output_type": "execute_result"
    }
   ],
   "source": [
    "len(foes)"
   ]
  },
  {
   "cell_type": "code",
   "execution_count": 13,
   "metadata": {
    "collapsed": true
   },
   "outputs": [],
   "source": [
    "friends_s = friends[(friends['score1'] != 0) | (friends['score2'] != 0) ]"
   ]
  },
  {
   "cell_type": "code",
   "execution_count": 15,
   "metadata": {},
   "outputs": [
    {
     "data": {
      "text/plain": [
       "97196"
      ]
     },
     "execution_count": 15,
     "metadata": {},
     "output_type": "execute_result"
    }
   ],
   "source": [
    "len(friends_s)"
   ]
  },
  {
   "cell_type": "code",
   "execution_count": 18,
   "metadata": {
    "collapsed": true
   },
   "outputs": [],
   "source": [
    "friends_s.reset_index(drop=True, inplace = True)"
   ]
  },
  {
   "cell_type": "code",
   "execution_count": 19,
   "metadata": {},
   "outputs": [
    {
     "data": {
      "text/html": [
       "<div>\n",
       "<style>\n",
       "    .dataframe thead tr:only-child th {\n",
       "        text-align: right;\n",
       "    }\n",
       "\n",
       "    .dataframe thead th {\n",
       "        text-align: left;\n",
       "    }\n",
       "\n",
       "    .dataframe tbody tr th {\n",
       "        vertical-align: top;\n",
       "    }\n",
       "</style>\n",
       "<table border=\"1\" class=\"dataframe\">\n",
       "  <thead>\n",
       "    <tr style=\"text-align: right;\">\n",
       "      <th></th>\n",
       "      <th>person1</th>\n",
       "      <th>person2</th>\n",
       "      <th>score1</th>\n",
       "      <th>score2</th>\n",
       "    </tr>\n",
       "  </thead>\n",
       "  <tbody>\n",
       "    <tr>\n",
       "      <th>0</th>\n",
       "      <td>6cb34607_72386def</td>\n",
       "      <td>8260e1c3_f518feae</td>\n",
       "      <td>0.0</td>\n",
       "      <td>-2.0</td>\n",
       "    </tr>\n",
       "    <tr>\n",
       "      <th>1</th>\n",
       "      <td>556ba434_c0ca2371</td>\n",
       "      <td>c38d1b99_3d61be1a</td>\n",
       "      <td>-2.0</td>\n",
       "      <td>0.0</td>\n",
       "    </tr>\n",
       "    <tr>\n",
       "      <th>2</th>\n",
       "      <td>9a04f2c1_2f5068c8</td>\n",
       "      <td>ac7d8101_726035f</td>\n",
       "      <td>0.0</td>\n",
       "      <td>-2.0</td>\n",
       "    </tr>\n",
       "    <tr>\n",
       "      <th>3</th>\n",
       "      <td>1c9221db_22904429</td>\n",
       "      <td>c42f7784_19bb34eb</td>\n",
       "      <td>0.0</td>\n",
       "      <td>-1.0</td>\n",
       "    </tr>\n",
       "    <tr>\n",
       "      <th>4</th>\n",
       "      <td>36f4ed0a_ae3f03e9</td>\n",
       "      <td>beee874_b0e1c2c9</td>\n",
       "      <td>-2.0</td>\n",
       "      <td>0.0</td>\n",
       "    </tr>\n",
       "  </tbody>\n",
       "</table>\n",
       "</div>"
      ],
      "text/plain": [
       "             person1            person2  score1  score2\n",
       "0  6cb34607_72386def  8260e1c3_f518feae     0.0    -2.0\n",
       "1  556ba434_c0ca2371  c38d1b99_3d61be1a    -2.0     0.0\n",
       "2  9a04f2c1_2f5068c8   ac7d8101_726035f     0.0    -2.0\n",
       "3  1c9221db_22904429  c42f7784_19bb34eb     0.0    -1.0\n",
       "4  36f4ed0a_ae3f03e9   beee874_b0e1c2c9    -2.0     0.0"
      ]
     },
     "execution_count": 19,
     "metadata": {},
     "output_type": "execute_result"
    }
   ],
   "source": [
    "friends_s.head()"
   ]
  },
  {
   "cell_type": "code",
   "execution_count": 11,
   "metadata": {
    "collapsed": true
   },
   "outputs": [],
   "source": [
    "foes_s = foes[(foes['score1'] != 0) | (foes['score2'] != 0)]"
   ]
  },
  {
   "cell_type": "code",
   "execution_count": 12,
   "metadata": {
    "collapsed": true
   },
   "outputs": [],
   "source": [
    "foes_s.reset_index(drop=True, inplace = True)"
   ]
  },
  {
   "cell_type": "code",
   "execution_count": 13,
   "metadata": {},
   "outputs": [
    {
     "data": {
      "text/plain": [
       "45488"
      ]
     },
     "execution_count": 13,
     "metadata": {},
     "output_type": "execute_result"
    }
   ],
   "source": [
    "len(foes_s)"
   ]
  },
  {
   "cell_type": "code",
   "execution_count": 31,
   "metadata": {},
   "outputs": [
    {
     "data": {
      "text/html": [
       "<div>\n",
       "<style>\n",
       "    .dataframe thead tr:only-child th {\n",
       "        text-align: right;\n",
       "    }\n",
       "\n",
       "    .dataframe thead th {\n",
       "        text-align: left;\n",
       "    }\n",
       "\n",
       "    .dataframe tbody tr th {\n",
       "        vertical-align: top;\n",
       "    }\n",
       "</style>\n",
       "<table border=\"1\" class=\"dataframe\">\n",
       "  <thead>\n",
       "    <tr style=\"text-align: right;\">\n",
       "      <th></th>\n",
       "      <th>person1</th>\n",
       "      <th>person2</th>\n",
       "      <th>score1</th>\n",
       "      <th>score2</th>\n",
       "    </tr>\n",
       "  </thead>\n",
       "  <tbody>\n",
       "    <tr>\n",
       "      <th>0</th>\n",
       "      <td>8b28e2cf_2b895a86</td>\n",
       "      <td>1fca0d07_adc649b8</td>\n",
       "      <td>-1.0</td>\n",
       "      <td>0.0</td>\n",
       "    </tr>\n",
       "    <tr>\n",
       "      <th>1</th>\n",
       "      <td>97688328_79a98884</td>\n",
       "      <td>3660dca9_76de4216</td>\n",
       "      <td>0.0</td>\n",
       "      <td>3.0</td>\n",
       "    </tr>\n",
       "    <tr>\n",
       "      <th>2</th>\n",
       "      <td>916c397c_eb9d1676</td>\n",
       "      <td>e1ffddcf_e29638f4</td>\n",
       "      <td>0.0</td>\n",
       "      <td>2.0</td>\n",
       "    </tr>\n",
       "    <tr>\n",
       "      <th>3</th>\n",
       "      <td>ba745a27_ecf057dc</td>\n",
       "      <td>d34748d2_55b76015</td>\n",
       "      <td>0.0</td>\n",
       "      <td>-2.0</td>\n",
       "    </tr>\n",
       "    <tr>\n",
       "      <th>4</th>\n",
       "      <td>76effdcf_a75d185e</td>\n",
       "      <td>2a663754_d6c9ffa3</td>\n",
       "      <td>-1.0</td>\n",
       "      <td>0.0</td>\n",
       "    </tr>\n",
       "  </tbody>\n",
       "</table>\n",
       "</div>"
      ],
      "text/plain": [
       "             person1            person2  score1  score2\n",
       "0  8b28e2cf_2b895a86  1fca0d07_adc649b8    -1.0     0.0\n",
       "1  97688328_79a98884  3660dca9_76de4216     0.0     3.0\n",
       "2  916c397c_eb9d1676  e1ffddcf_e29638f4     0.0     2.0\n",
       "3  ba745a27_ecf057dc  d34748d2_55b76015     0.0    -2.0\n",
       "4  76effdcf_a75d185e  2a663754_d6c9ffa3    -1.0     0.0"
      ]
     },
     "execution_count": 31,
     "metadata": {},
     "output_type": "execute_result"
    }
   ],
   "source": [
    "foes_s.head()"
   ]
  },
  {
   "cell_type": "code",
   "execution_count": 14,
   "metadata": {
    "collapsed": true
   },
   "outputs": [],
   "source": [
    "### pickle foes_s and friends_s\n",
    "with open('foes_s.pkl', 'wb') as file:\n",
    "    pickle.dump(foes_s, file)"
   ]
  },
  {
   "cell_type": "code",
   "execution_count": 26,
   "metadata": {
    "collapsed": true
   },
   "outputs": [],
   "source": [
    "with open('friends_s.pkl', 'wb') as file:\n",
    "    pickle.dump(friends_s, file)"
   ]
  },
  {
   "cell_type": "markdown",
   "metadata": {},
   "source": [
    "#### build a dictionay with elements in small datasets#### "
   ]
  },
  {
   "cell_type": "code",
   "execution_count": 28,
   "metadata": {
    "collapsed": true
   },
   "outputs": [],
   "source": [
    "with open('friends_s.pkl', 'rb') as file:\n",
    "    friends_s = pickle.load(file)"
   ]
  },
  {
   "cell_type": "code",
   "execution_count": 29,
   "metadata": {
    "collapsed": true
   },
   "outputs": [],
   "source": [
    "with open('foes_s.pkl', 'rb') as file:\n",
    "    foes_s = pickle.load(file)"
   ]
  },
  {
   "cell_type": "code",
   "execution_count": 30,
   "metadata": {
    "collapsed": true
   },
   "outputs": [],
   "source": [
    "# create a dictionary:\n",
    "id_score_s = {}"
   ]
  },
  {
   "cell_type": "code",
   "execution_count": 31,
   "metadata": {
    "collapsed": true
   },
   "outputs": [],
   "source": [
    "for index, row in foes_s.iterrows():\n",
    "    if row['person1'] not in id_score_s: \n",
    "        id_score_s[row['person1']] = row['score1']\n",
    "    if row['person2'] not in id_score_s: \n",
    "        id_score_s[row['person2']] = row['score2']  "
   ]
  },
  {
   "cell_type": "code",
   "execution_count": 32,
   "metadata": {},
   "outputs": [
    {
     "data": {
      "text/plain": [
       "12886"
      ]
     },
     "execution_count": 32,
     "metadata": {},
     "output_type": "execute_result"
    }
   ],
   "source": [
    "len(id_score_s.keys())   # make sense"
   ]
  },
  {
   "cell_type": "code",
   "execution_count": 33,
   "metadata": {},
   "outputs": [
    {
     "data": {
      "text/plain": [
       "-2.0"
      ]
     },
     "execution_count": 33,
     "metadata": {},
     "output_type": "execute_result"
    }
   ],
   "source": [
    "id_score_s['8b28e2cf_2b895a86']\n",
    "id_score_s['d34748d2_55b76015']"
   ]
  },
  {
   "cell_type": "code",
   "execution_count": 33,
   "metadata": {
    "collapsed": true
   },
   "outputs": [],
   "source": [
    "for index, row in friends_s.iterrows():\n",
    "    if row['person1'] not in id_score_s: \n",
    "        id_score_s[row['person1']] = row['score1']\n",
    "    if row['person2'] not in id_score_s: \n",
    "        id_score_s[row['person2']] = row['score2']  "
   ]
  },
  {
   "cell_type": "code",
   "execution_count": 422,
   "metadata": {},
   "outputs": [
    {
     "data": {
      "text/plain": [
       "25854"
      ]
     },
     "execution_count": 422,
     "metadata": {},
     "output_type": "execute_result"
    }
   ],
   "source": [
    "len(id_score_s.keys())"
   ]
  },
  {
   "cell_type": "code",
   "execution_count": 35,
   "metadata": {
    "collapsed": true
   },
   "outputs": [],
   "source": [
    "### pickle id_score_s\n",
    "with open('id_score_s.pkl', 'wb') as file:\n",
    "    pickle.dump(id_score_s, file)"
   ]
  },
  {
   "cell_type": "markdown",
   "metadata": {},
   "source": [
    "#### build network with small dataset ####"
   ]
  },
  {
   "cell_type": "code",
   "execution_count": 16,
   "metadata": {
    "collapsed": true
   },
   "outputs": [],
   "source": [
    "net_s = nx.Graph()"
   ]
  },
  {
   "cell_type": "code",
   "execution_count": 17,
   "metadata": {
    "collapsed": true
   },
   "outputs": [],
   "source": [
    "for index, row in foes_s.iterrows():\n",
    "    net_s.add_edge(row['person1'], row['person2'], weight= -1)"
   ]
  },
  {
   "cell_type": "code",
   "execution_count": 24,
   "metadata": {},
   "outputs": [
    {
     "data": {
      "text/plain": [
       "25854"
      ]
     },
     "execution_count": 24,
     "metadata": {},
     "output_type": "execute_result"
    }
   ],
   "source": [
    "net_s.number_of_nodes()    # same as # of keys in the dict"
   ]
  },
  {
   "cell_type": "code",
   "execution_count": 25,
   "metadata": {},
   "outputs": [
    {
     "data": {
      "text/plain": [
       "142589"
      ]
     },
     "execution_count": 25,
     "metadata": {},
     "output_type": "execute_result"
    }
   ],
   "source": [
    "net_s.number_of_edges()"
   ]
  },
  {
   "cell_type": "code",
   "execution_count": 21,
   "metadata": {},
   "outputs": [
    {
     "data": {
      "text/plain": [
       "['3e9972af_722e8b21',\n",
       " 'f9fce742_9e6fd13d',\n",
       " '18c5cff6_ea4f0c22',\n",
       " '7c57d81d_9e0e3e7a',\n",
       " '86e62183_ad41fc40']"
      ]
     },
     "execution_count": 21,
     "metadata": {},
     "output_type": "execute_result"
    }
   ],
   "source": [
    "list(net_s.nodes)[:5]"
   ]
  },
  {
   "cell_type": "code",
   "execution_count": 20,
   "metadata": {},
   "outputs": [
    {
     "data": {
      "text/plain": [
       "-1"
      ]
     },
     "execution_count": 20,
     "metadata": {},
     "output_type": "execute_result"
    }
   ],
   "source": [
    "net_s.edges['8b28e2cf_2b895a86', '1fca0d07_adc649b8']['weight']"
   ]
  },
  {
   "cell_type": "code",
   "execution_count": 23,
   "metadata": {
    "collapsed": true
   },
   "outputs": [],
   "source": [
    "for index, row in friends_s.iterrows():\n",
    "    net_s.add_edge(row['person1'], row['person2'], weight=1)"
   ]
  },
  {
   "cell_type": "code",
   "execution_count": 36,
   "metadata": {
    "collapsed": true
   },
   "outputs": [],
   "source": [
    "# add score to vertices \n",
    "for key, score in id_score_s.items():\n",
    "    net_s.nodes[key]['score'] = score"
   ]
  },
  {
   "cell_type": "code",
   "execution_count": 38,
   "metadata": {},
   "outputs": [
    {
     "data": {
      "text/plain": [
       "{'score': -1.0}"
      ]
     },
     "execution_count": 38,
     "metadata": {},
     "output_type": "execute_result"
    }
   ],
   "source": [
    "net_s.nodes['8b28e2cf_2b895a86']   # verified"
   ]
  },
  {
   "cell_type": "code",
   "execution_count": 39,
   "metadata": {
    "collapsed": true
   },
   "outputs": [],
   "source": [
    "# pickle net_s\n",
    "with open('net_s.pkl', 'wb') as file:\n",
    "    pickle.dump(net_s, file)"
   ]
  },
  {
   "cell_type": "code",
   "execution_count": 40,
   "metadata": {
    "collapsed": true
   },
   "outputs": [],
   "source": [
    "# find triangles in net\n",
    "cycls_3 = [c for c in nx.cycle_basis(net_s) if len(c)==3]"
   ]
  },
  {
   "cell_type": "code",
   "execution_count": 43,
   "metadata": {},
   "outputs": [
    {
     "data": {
      "text/plain": [
       "34751"
      ]
     },
     "execution_count": 43,
     "metadata": {},
     "output_type": "execute_result"
    }
   ],
   "source": [
    "len(cycls_3)"
   ]
  },
  {
   "cell_type": "code",
   "execution_count": 46,
   "metadata": {
    "collapsed": true
   },
   "outputs": [],
   "source": [
    "#c0 = cycls_3[0]"
   ]
  },
  {
   "cell_type": "code",
   "execution_count": 52,
   "metadata": {
    "collapsed": true
   },
   "outputs": [],
   "source": [
    "#pairs = list(itertools.combinations(c0, 2))"
   ]
  },
  {
   "cell_type": "code",
   "execution_count": 53,
   "metadata": {},
   "outputs": [
    {
     "data": {
      "text/plain": [
       "('bdac1eff_9a4ecb4c', 'ba0f6006_5551ee80')"
      ]
     },
     "execution_count": 53,
     "metadata": {},
     "output_type": "execute_result"
    }
   ],
   "source": [
    "#pairs[0]"
   ]
  },
  {
   "cell_type": "code",
   "execution_count": 75,
   "metadata": {
    "collapsed": true
   },
   "outputs": [],
   "source": [
    "# mul = net_s.edges[pairs[0][0], pairs[0][1]]['weight']\n",
    "# for pair in pairs[1:]: \n",
    "#     mul *= net_s.edges[pair[0], pair[1]]['weight']"
   ]
  },
  {
   "cell_type": "code",
   "execution_count": 76,
   "metadata": {},
   "outputs": [
    {
     "data": {
      "text/plain": [
       "1"
      ]
     },
     "execution_count": 76,
     "metadata": {},
     "output_type": "execute_result"
    }
   ],
   "source": [
    "# mul"
   ]
  },
  {
   "cell_type": "code",
   "execution_count": 65,
   "metadata": {},
   "outputs": [
    {
     "data": {
      "text/plain": [
       "-1.0"
      ]
     },
     "execution_count": 65,
     "metadata": {},
     "output_type": "execute_result"
    }
   ],
   "source": [
    "net_s.nodes['8b28e2cf_2b895a86']['score']"
   ]
  },
  {
   "cell_type": "code",
   "execution_count": 45,
   "metadata": {},
   "outputs": [
    {
     "data": {
      "text/plain": [
       "-1"
      ]
     },
     "execution_count": 45,
     "metadata": {},
     "output_type": "execute_result"
    }
   ],
   "source": [
    "net_s.edges['8b28e2cf_2b895a86', '1fca0d07_adc649b8']['weight']"
   ]
  },
  {
   "cell_type": "code",
   "execution_count": 162,
   "metadata": {
    "collapsed": true
   },
   "outputs": [],
   "source": [
    "# a = 1\n",
    "# x1 = -1.0\n",
    "# x2 = 0.0\n",
    "# x3 = 1.0\n",
    "# if a == 1 and (x1 == x2 == x3) == True:\n",
    "#     print 'yes'\n",
    "# else:\n",
    "#     print 'no'"
   ]
  },
  {
   "cell_type": "code",
   "execution_count": 169,
   "metadata": {
    "collapsed": true
   },
   "outputs": [],
   "source": [
    "# 1st round: (friend, friend, foe) extracted\n",
    "wrong_p1 = []"
   ]
  },
  {
   "cell_type": "code",
   "execution_count": 170,
   "metadata": {
    "collapsed": true
   },
   "outputs": [],
   "source": [
    "for cycle in cycls_3:\n",
    "    pairs = list(itertools.combinations(cycle, 2))\n",
    "    # multiplicaiton of 3 weights: initialize mul with first weight\n",
    "    mul = net_s.edges[pairs[0][0], pairs[0][1]]['weight']\n",
    "    for pair in pairs[1:]: \n",
    "        mul *= net_s.edges[pair[0], pair[1]]['weight']\n",
    "    \n",
    "    if (mul == -1) and ((net_s.edges[pairs[0][0], pairs[0][1]]['weight'] + \\\n",
    "                      net_s.edges[pairs[1][0], pairs[1][1]]['weight'] + \\\n",
    "                      net_s.edges[pairs[2][0], pairs[2][1]]['weight']) == 1):\n",
    "        wrong_p1.append(cycle)"
   ]
  },
  {
   "cell_type": "code",
   "execution_count": 171,
   "metadata": {},
   "outputs": [
    {
     "data": {
      "text/plain": [
       "538"
      ]
     },
     "execution_count": 171,
     "metadata": {},
     "output_type": "execute_result"
    }
   ],
   "source": [
    "len(wrong_p1)"
   ]
  },
  {
   "cell_type": "code",
   "execution_count": 177,
   "metadata": {
    "collapsed": true
   },
   "outputs": [],
   "source": [
    "# p2 = wrong_p1[1]"
   ]
  },
  {
   "cell_type": "code",
   "execution_count": 178,
   "metadata": {},
   "outputs": [
    {
     "data": {
      "text/plain": [
       "['b3d276a7_f7faaee1', '9958c5f5_d6819a41', 'c4098202_59ca60c0']"
      ]
     },
     "execution_count": 178,
     "metadata": {},
     "output_type": "execute_result"
    }
   ],
   "source": [
    "# p2"
   ]
  },
  {
   "cell_type": "code",
   "execution_count": 179,
   "metadata": {},
   "outputs": [
    {
     "data": {
      "text/plain": [
       "-1"
      ]
     },
     "execution_count": 179,
     "metadata": {},
     "output_type": "execute_result"
    }
   ],
   "source": [
    "# # verify wrong_p1[0] by condition\n",
    "# pairs = list(itertools.combinations(p2, 2))\n",
    "# mul = net_s.edges[pairs[0][0], pairs[0][1]]['weight']\n",
    "# for pair in pairs[1:]: \n",
    "#     mul *= net_s.edges[pair[0], pair[1]]['weight']\n",
    "# mul"
   ]
  },
  {
   "cell_type": "code",
   "execution_count": 186,
   "metadata": {},
   "outputs": [
    {
     "name": "stdout",
     "output_type": "stream",
     "text": [
      "-1\n",
      "1\n",
      "1\n"
     ]
    }
   ],
   "source": [
    "# print net_s.edges[pairs[0][0], pairs[0][1]]['weight']\n",
    "# print net_s.edges[pairs[1][0], pairs[1][1]]['weight']\n",
    "# print net_s.edges[pairs[2][0], pairs[2][1]]['weight']"
   ]
  },
  {
   "cell_type": "code",
   "execution_count": 181,
   "metadata": {
    "collapsed": true
   },
   "outputs": [],
   "source": [
    "with open('wrong_p1.pkl', 'wb') as file:\n",
    "    pickle.dump(wrong_p1, file)"
   ]
  },
  {
   "cell_type": "code",
   "execution_count": 187,
   "metadata": {
    "collapsed": true
   },
   "outputs": [],
   "source": [
    "with open('wrong_p1.pkl', 'rb') as file:\n",
    "    p1 = pickle.load(file)"
   ]
  },
  {
   "cell_type": "code",
   "execution_count": 189,
   "metadata": {},
   "outputs": [
    {
     "data": {
      "text/plain": [
       "['8fa85ae_47e6744b', '9958c5f5_d6819a41', 'c4098202_59ca60c0']"
      ]
     },
     "execution_count": 189,
     "metadata": {},
     "output_type": "execute_result"
    }
   ],
   "source": [
    "p1[0]"
   ]
  },
  {
   "cell_type": "code",
   "execution_count": 190,
   "metadata": {
    "collapsed": true
   },
   "outputs": [],
   "source": [
    "# further(2nd) narrow down: all vertices in a cycle must have known scores.\n",
    "wrong_p2 = []"
   ]
  },
  {
   "cell_type": "code",
   "execution_count": 191,
   "metadata": {
    "collapsed": true
   },
   "outputs": [],
   "source": [
    "for cycle in p1:\n",
    "    if net_s.nodes[cycle[0]]['score'] * net_s.nodes[cycle[1]]['score'] * net_s.nodes[cycle[2]]['score'] != 0:\n",
    "        wrong_p2.append(cycle)"
   ]
  },
  {
   "cell_type": "code",
   "execution_count": 192,
   "metadata": {},
   "outputs": [
    {
     "data": {
      "text/plain": [
       "52"
      ]
     },
     "execution_count": 192,
     "metadata": {},
     "output_type": "execute_result"
    }
   ],
   "source": [
    "len(wrong_p2)"
   ]
  },
  {
   "cell_type": "code",
   "execution_count": 193,
   "metadata": {},
   "outputs": [
    {
     "data": {
      "text/plain": [
       "['c4a4c0e6_c3ac6729', '21fc5e24_72210188', '81007e87_f944e95b']"
      ]
     },
     "execution_count": 193,
     "metadata": {},
     "output_type": "execute_result"
    }
   ],
   "source": [
    "wrong_p2[0]"
   ]
  },
  {
   "cell_type": "code",
   "execution_count": 203,
   "metadata": {
    "collapsed": true
   },
   "outputs": [],
   "source": [
    "# further(3rd) narrow down: by rule 1, keep cycles with bad + good person friends\n",
    "wrong_p3 = []"
   ]
  },
  {
   "cell_type": "code",
   "execution_count": 204,
   "metadata": {},
   "outputs": [],
   "source": [
    "for cycle in wrong_p2:\n",
    "    pairs = list(itertools.combinations(cycle, 2))\n",
    "    # product of 3 weights: initialize mul with first weight\n",
    "    for pair in pairs:\n",
    "        if (net_s.edges[pair[0], pair[1]]['weight'] == 1) and (net_s.nodes[pair[0]]['score'] * net_s.nodes[pair[1]]['score'] < 0):                      \n",
    "            wrong_p3.append(cycle)\n",
    "            break"
   ]
  },
  {
   "cell_type": "code",
   "execution_count": 205,
   "metadata": {},
   "outputs": [
    {
     "data": {
      "text/plain": [
       "42"
      ]
     },
     "execution_count": 205,
     "metadata": {},
     "output_type": "execute_result"
    }
   ],
   "source": [
    "len(wrong_p3)"
   ]
  },
  {
   "cell_type": "code",
   "execution_count": 212,
   "metadata": {
    "collapsed": true
   },
   "outputs": [],
   "source": [
    "wrong_p3_l = []\n",
    "for item in wrong_p3:\n",
    "    wrong_p3_l.extend(item)"
   ]
  },
  {
   "cell_type": "code",
   "execution_count": 253,
   "metadata": {},
   "outputs": [
    {
     "data": {
      "text/plain": [
       "[('c4098202_59ca60c0', 15),\n",
       " ('c4a4c0e6_c3ac6729', 8),\n",
       " ('81007e87_f944e95b', 6),\n",
       " ('556ba434_c0ca2371', 6),\n",
       " ('433224d2_8de5da2e', 4)]"
      ]
     },
     "execution_count": 253,
     "metadata": {},
     "output_type": "execute_result"
    }
   ],
   "source": [
    "# get 5 most frequent vertices in the cycyles\n",
    "sorted(Counter(wrong_p3_l).items(), key = lambda (k,v): (v,k), reverse = True)[:5]"
   ]
  },
  {
   "cell_type": "code",
   "execution_count": 263,
   "metadata": {
    "collapsed": true
   },
   "outputs": [],
   "source": [
    "wrong_p4 = []"
   ]
  },
  {
   "cell_type": "code",
   "execution_count": 264,
   "metadata": {},
   "outputs": [],
   "source": [
    "for item in wrong_p3:\n",
    "    if 'c4098202_59ca60c0' in item:\n",
    "        wrong_p4.append(item)"
   ]
  },
  {
   "cell_type": "code",
   "execution_count": 265,
   "metadata": {},
   "outputs": [
    {
     "data": {
      "text/plain": [
       "[['9779191_d458ccd1', '6be100d7_532794ea', 'c4098202_59ca60c0'],\n",
       " ['54cf58aa_f951603c', '790f0441_162b707a', 'c4098202_59ca60c0'],\n",
       " ['ba850aa4_635b1b38', '4b1efc02_d975992f', 'c4098202_59ca60c0'],\n",
       " ['eb15b11c_2086cdf0', '7295669_c50f4599', 'c4098202_59ca60c0'],\n",
       " ['d34748d2_55b76015', '19fb72ee_3184949e', 'c4098202_59ca60c0'],\n",
       " ['d34748d2_55b76015', '8fd3a344_70daee4f', 'c4098202_59ca60c0'],\n",
       " ['4ef00044_557c7c45', 'd430f708_c07ee38b', 'c4098202_59ca60c0'],\n",
       " ['9779191_d458ccd1', 'a2f656c3_2e9d2b6d', 'c4098202_59ca60c0'],\n",
       " ['14fc472a_f4b57e09', '350b2065_99e3747c', 'c4098202_59ca60c0'],\n",
       " ['2af5a458_d1345878', '54cf58aa_f951603c', 'c4098202_59ca60c0'],\n",
       " ['4104c504_b2a0fab4', '256649c4_29402af', 'c4098202_59ca60c0'],\n",
       " ['2af5a458_d1345878', '8fa85ae_47e6744b', 'c4098202_59ca60c0'],\n",
       " ['258e3ae3_afaf2804', 'befd2359_2a206c18', 'c4098202_59ca60c0'],\n",
       " ['258e3ae3_afaf2804', '52907b87_aa3e7910', 'c4098202_59ca60c0'],\n",
       " ['258e3ae3_afaf2804', 'd34748d2_55b76015', 'c4098202_59ca60c0']]"
      ]
     },
     "execution_count": 265,
     "metadata": {},
     "output_type": "execute_result"
    }
   ],
   "source": [
    "wrong_p4"
   ]
  },
  {
   "cell_type": "code",
   "execution_count": 267,
   "metadata": {},
   "outputs": [],
   "source": [
    "w_s = []\n",
    "for cycle in wrong_p4:\n",
    "    w1 = net_s.edges[cycle[0], 'c4098202_59ca60c0']['weight']\n",
    "    w2 = net_s.edges[cycle[1], 'c4098202_59ca60c0']['weight']\n",
    "    w_s.append((w1, w2))"
   ]
  },
  {
   "cell_type": "code",
   "execution_count": 268,
   "metadata": {},
   "outputs": [
    {
     "data": {
      "text/plain": [
       "[(1, 1),\n",
       " (1, 1),\n",
       " (1, 1),\n",
       " (1, 1),\n",
       " (1, 1),\n",
       " (1, 1),\n",
       " (1, 1),\n",
       " (1, 1),\n",
       " (1, 1),\n",
       " (1, 1),\n",
       " (1, 1),\n",
       " (1, 1),\n",
       " (1, 1),\n",
       " (1, 1),\n",
       " (1, 1)]"
      ]
     },
     "execution_count": 268,
     "metadata": {},
     "output_type": "execute_result"
    }
   ],
   "source": [
    "w_s"
   ]
  },
  {
   "cell_type": "code",
   "execution_count": 269,
   "metadata": {
    "collapsed": true
   },
   "outputs": [],
   "source": [
    "score_s = []\n",
    "for cycle in wrong_p4:\n",
    "    s1 = net_s.nodes[cycle[0]]['score']\n",
    "    s2 = net_s.nodes[cycle[1]]['score']\n",
    "    score_s.append((s1, s2))"
   ]
  },
  {
   "cell_type": "code",
   "execution_count": 270,
   "metadata": {},
   "outputs": [
    {
     "data": {
      "text/plain": [
       "[(2.0, -1.0),\n",
       " (1.0, -2.0),\n",
       " (-2.0, 1.0),\n",
       " (2.0, -2.0),\n",
       " (-2.0, 2.0),\n",
       " (-2.0, 1.0),\n",
       " (2.0, -2.0),\n",
       " (2.0, -2.0),\n",
       " (3.0, -2.0),\n",
       " (-2.0, 1.0),\n",
       " (-2.0, 2.0),\n",
       " (-2.0, 2.0),\n",
       " (2.0, -2.0),\n",
       " (2.0, -3.0),\n",
       " (2.0, -2.0)]"
      ]
     },
     "execution_count": 270,
     "metadata": {},
     "output_type": "execute_result"
    }
   ],
   "source": [
    "score_s"
   ]
  },
  {
   "cell_type": "markdown",
   "metadata": {},
   "source": [
    "## Part (b)"
   ]
  },
  {
   "cell_type": "code",
   "execution_count": 357,
   "metadata": {
    "collapsed": true
   },
   "outputs": [],
   "source": [
    "# create a dictionary with id_score in score table: this table with be expanded later. \n",
    "id_score = {}\n",
    "for index, row in scores.iterrows():\n",
    "    id_score[row['person id']] = row['score']"
   ]
  },
  {
   "cell_type": "code",
   "execution_count": 363,
   "metadata": {
    "collapsed": true
   },
   "outputs": [],
   "source": [
    "with open('id_score_full.pkl', 'wb') as file:\n",
    "    pickle.dump(id_score, file)"
   ]
  },
  {
   "cell_type": "code",
   "execution_count": 395,
   "metadata": {
    "collapsed": true
   },
   "outputs": [],
   "source": [
    "with open('id_score_full.pkl', 'rb') as file:\n",
    "    id_score = pickle.load(file)"
   ]
  },
  {
   "cell_type": "code",
   "execution_count": 396,
   "metadata": {},
   "outputs": [
    {
     "data": {
      "text/plain": [
       "1927"
      ]
     },
     "execution_count": 396,
     "metadata": {},
     "output_type": "execute_result"
    }
   ],
   "source": [
    "len(id_score.items())"
   ]
  },
  {
   "cell_type": "markdown",
   "metadata": {},
   "source": [
    "### testing algorithm on small dataset generated in part (a)"
   ]
  },
  {
   "cell_type": "code",
   "execution_count": 390,
   "metadata": {
    "collapsed": true
   },
   "outputs": [],
   "source": [
    "with open('net_s.pkl', 'rb') as file:\n",
    "    net_s = pickle.load(file)"
   ]
  },
  {
   "cell_type": "code",
   "execution_count": 391,
   "metadata": {
    "collapsed": true
   },
   "outputs": [],
   "source": [
    "# net_s: update weights of 8 edges identified in part (a)\n",
    "net_s.edges['8fa85ae_47e6744b', 'c4098202_59ca60c0']['weight'] = 0\n",
    "net_s.edges['8fd3a344_70daee4f', 'c4098202_59ca60c0']['weight'] = 0\n",
    "net_s.edges['9779191_d458ccd1', 'c4098202_59ca60c0']['weight'] = 0\n",
    "net_s.edges['4b1efc02_d975992f', 'c4098202_59ca60c0']['weight'] = 0\n",
    "net_s.edges['eb15b11c_2086cdf0', 'c4098202_59ca60c0']['weight'] = 0\n",
    "net_s.edges['256649c4_29402af', 'c4098202_59ca60c0']['weight'] = 0\n",
    "net_s.edges['14fc472a_f4b57e09', 'c4098202_59ca60c0']['weight'] = 0\n",
    "net_s.edges['4ef00044_557c7c45', 'c4098202_59ca60c0']['weight'] = 0"
   ]
  },
  {
   "cell_type": "code",
   "execution_count": 392,
   "metadata": {},
   "outputs": [
    {
     "data": {
      "text/plain": [
       "142589"
      ]
     },
     "execution_count": 392,
     "metadata": {},
     "output_type": "execute_result"
    }
   ],
   "source": [
    "net_s.number_of_edges()      # verified: same as before"
   ]
  },
  {
   "cell_type": "code",
   "execution_count": 393,
   "metadata": {},
   "outputs": [
    {
     "data": {
      "text/plain": [
       "25854"
      ]
     },
     "execution_count": 393,
     "metadata": {},
     "output_type": "execute_result"
    }
   ],
   "source": [
    "net_s.number_of_nodes()"
   ]
  },
  {
   "cell_type": "code",
   "execution_count": 410,
   "metadata": {},
   "outputs": [
    {
     "data": {
      "text/plain": [
       "1987"
      ]
     },
     "execution_count": 410,
     "metadata": {},
     "output_type": "execute_result"
    }
   ],
   "source": [
    "len(id_score.keys())"
   ]
  },
  {
   "cell_type": "code",
   "execution_count": 398,
   "metadata": {
    "collapsed": true
   },
   "outputs": [],
   "source": [
    "# Add an new attribute to every node in net_s\n",
    "for node in list(net_s.nodes):\n",
    "    if node in id_score:\n",
    "        net_s.nodes[node]['known_neighbor'] = 0   # already in the score table\n",
    "    else:\n",
    "        k_n = 0\n",
    "        for adj_item in list(net_s.adj[node]):\n",
    "           if adj_item in id_score:\n",
    "               k_n += 1\n",
    "        net_s.nodes[node]['known_neighbor'] = k_n    # k_n >= 1"
   ]
  },
  {
   "cell_type": "code",
   "execution_count": 364,
   "metadata": {},
   "outputs": [],
   "source": [
    "#len(wrong_p1)"
   ]
  },
  {
   "cell_type": "code",
   "execution_count": 399,
   "metadata": {},
   "outputs": [],
   "source": [
    "# decrease friend weights in triangles in wrong_p1: by rule(2) and rule(3)\n",
    "for cycle in wrong_p1:\n",
    "    pairs = list(itertools.combinations(cycle, 2))\n",
    "    for pair in pairs:\n",
    "        if net_s.edges[pair[0], pair[1]]['weight'] == 1:\n",
    "            net_s.edges[pair[0], pair[1]]['weight'] = 0.001"
   ]
  },
  {
   "cell_type": "code",
   "execution_count": 301,
   "metadata": {},
   "outputs": [
    {
     "data": {
      "text/plain": [
       "{'known_neighbor': 0, 'score': -2.0}"
      ]
     },
     "execution_count": 301,
     "metadata": {},
     "output_type": "execute_result"
    }
   ],
   "source": [
    "#net_s.node['c4098202_59ca60c0']"
   ]
  },
  {
   "cell_type": "code",
   "execution_count": 400,
   "metadata": {},
   "outputs": [],
   "source": [
    "# sort vertices by their know_neighbor\n",
    "node_heap = []\n",
    "for node in list(net_s.nodes):\n",
    "    if net_s.node[node]['known_neighbor'] != 0:    # never put nodes with known score in the heapq\n",
    "        heapq.heappush(node_heap, (net_s.node[node]['known_neighbor'], node))"
   ]
  },
  {
   "cell_type": "code",
   "execution_count": 401,
   "metadata": {},
   "outputs": [
    {
     "data": {
      "text/plain": [
       "23930"
      ]
     },
     "execution_count": 401,
     "metadata": {},
     "output_type": "execute_result"
    }
   ],
   "source": [
    "len(node_heap)   # 25854 - 23930 = 1924 < 1927 "
   ]
  },
  {
   "cell_type": "code",
   "execution_count": 402,
   "metadata": {},
   "outputs": [
    {
     "data": {
      "text/plain": [
       "[(154, '48b40daa_41326021')]"
      ]
     },
     "execution_count": 402,
     "metadata": {},
     "output_type": "execute_result"
    }
   ],
   "source": [
    "heapq.nlargest(1, node_heap)"
   ]
  },
  {
   "cell_type": "code",
   "execution_count": 405,
   "metadata": {},
   "outputs": [
    {
     "data": {
      "text/plain": [
       "154"
      ]
     },
     "execution_count": 405,
     "metadata": {},
     "output_type": "execute_result"
    }
   ],
   "source": [
    "net_s.degree('48b40daa_41326021')"
   ]
  },
  {
   "cell_type": "code",
   "execution_count": 309,
   "metadata": {},
   "outputs": [],
   "source": [
    "# node_heap.remove((154, '48b40daa_41326021'))\n",
    "# heapq.heapify(node_heap)"
   ]
  },
  {
   "cell_type": "code",
   "execution_count": 408,
   "metadata": {},
   "outputs": [],
   "source": [
    "# calcualte a node score, update node attribute and the score dictionary, create a new heapq\n",
    "begin = time.time()\n",
    "print begin\n",
    "\n",
    "while node_heap:\n",
    "    largest = heapq.nlargest(1, node_heap)\n",
    "    current_node = largest[0][1]\n",
    "    new_score = 0\n",
    "    count = 0\n",
    "    for adj_item in list(net_s.adj[current_node]):\n",
    "        if net_s.node[adj_item]['known_neighbor'] == 0:    # node's score is known or has been updated\n",
    "            new_score += net_s.edges[adj_item, current_node]['weight'] * net_s.node[adj_item]['score']\n",
    "            count += 1\n",
    "        else:\n",
    "            net_s.node[adj_item]['known_neighbor'] += 1\n",
    "\n",
    "    new_score /= count\n",
    "    #ratio = 1.0 * count / net_s.degree[current_node]\n",
    "    #print ratio\n",
    "    \n",
    "    # set 'known_neighbor' to 0\n",
    "    net_s.nodes[current_node]['known_neighbor'] = 0\n",
    "\n",
    "    # update node score in net, expand id_score dictionary\n",
    "    net_s.nodes[current_node]['score'] = new_score\n",
    "    id_score[current_node] = new_score\n",
    "\n",
    "    # create a new node_heap:\n",
    "    node_heap = []\n",
    "    for node in list(net_s.nodes):\n",
    "        if net_s.node[node]['known_neighbor'] != 0:    # never put nodes with known score in the heapq\n",
    "            heapq.heappush(node_heap, (net_s.node[node]['known_neighbor'], node))\n",
    "    \n",
    "end = time.time()\n",
    "print end\n",
    "print end - begin\n",
    "#     # remove it from heapq and reheapify\n",
    "#     node_heap.remove(largest)\n",
    "#     heapq.heapify(node_heap)    "
   ]
  },
  {
   "cell_type": "code",
   "execution_count": 382,
   "metadata": {},
   "outputs": [
    {
     "data": {
      "text/plain": [
       "-2"
      ]
     },
     "execution_count": 382,
     "metadata": {},
     "output_type": "execute_result"
    }
   ],
   "source": [
    "id_score['c4098202_59ca60c0']   # verified: no change for node in the score table"
   ]
  },
  {
   "cell_type": "code",
   "execution_count": 383,
   "metadata": {},
   "outputs": [
    {
     "data": {
      "text/plain": [
       "[('c154494_12225688', -2.2),\n",
       " ('9f5eff3b_36cc13a2', 2.0),\n",
       " ('601d4aa3_628958d5', -1.4444444444444444),\n",
       " ('8f6bc512_664f5624', -1.5),\n",
       " ('7906d541_f32b96ea', -2)]"
      ]
     },
     "execution_count": 383,
     "metadata": {},
     "output_type": "execute_result"
    }
   ],
   "source": [
    "id_score.items()[:5]"
   ]
  },
  {
   "cell_type": "code",
   "execution_count": null,
   "metadata": {
    "collapsed": true
   },
   "outputs": [],
   "source": [
    "# expand net_s with rest of rows in friends and foes\n",
    "\n",
    "# identify (f, f, t) triangles in net_full"
   ]
  },
  {
   "cell_type": "code",
   "execution_count": 319,
   "metadata": {},
   "outputs": [
    {
     "ename": "AttributeError",
     "evalue": "'list' object has no attribute 'keys'",
     "output_type": "error",
     "traceback": [
      "\u001b[0;31m---------------------------------------------------------------------------\u001b[0m",
      "\u001b[0;31mAttributeError\u001b[0m                            Traceback (most recent call last)",
      "\u001b[0;32m<ipython-input-319-9dc4ac9708a8>\u001b[0m in \u001b[0;36m<module>\u001b[0;34m()\u001b[0m\n\u001b[0;32m----> 1\u001b[0;31m \u001b[0mnode_heap\u001b[0m\u001b[0;34m.\u001b[0m\u001b[0mkeys\u001b[0m\u001b[0;34m(\u001b[0m\u001b[0;34m)\u001b[0m\u001b[0;34m\u001b[0m\u001b[0m\n\u001b[0m",
      "\u001b[0;31mAttributeError\u001b[0m: 'list' object has no attribute 'keys'"
     ]
    }
   ],
   "source": [
    "node_heap"
   ]
  },
  {
   "cell_type": "code",
   "execution_count": 330,
   "metadata": {},
   "outputs": [],
   "source": [
    "#heapq.heappush(h, (8, 'release product'))"
   ]
  },
  {
   "cell_type": "code",
   "execution_count": 331,
   "metadata": {},
   "outputs": [
    {
     "data": {
      "text/plain": [
       "[(7, 'release product')]"
      ]
     },
     "execution_count": 331,
     "metadata": {},
     "output_type": "execute_result"
    }
   ],
   "source": [
    "heapq.nlargest(1, h)"
   ]
  },
  {
   "cell_type": "code",
   "execution_count": 407,
   "metadata": {},
   "outputs": [
    {
     "data": {
      "text/plain": [
       "[(3, 'create tests'),\n",
       " (7, 'release product'),\n",
       " (5, 'write code'),\n",
       " (8, 'release product')]"
      ]
     },
     "execution_count": 407,
     "metadata": {},
     "output_type": "execute_result"
    }
   ],
   "source": [
    "h"
   ]
  },
  {
   "cell_type": "code",
   "execution_count": 333,
   "metadata": {},
   "outputs": [
    {
     "data": {
      "text/plain": [
       "(1, 'write spec')"
      ]
     },
     "execution_count": 333,
     "metadata": {},
     "output_type": "execute_result"
    }
   ],
   "source": [
    "heapq.heapreplace(h, (8, 'release product'))"
   ]
  },
  {
   "cell_type": "markdown",
   "metadata": {},
   "source": [
    "### apply algorithm on full dataset (friend + foe)"
   ]
  },
  {
   "cell_type": "markdown",
   "metadata": {},
   "source": [
    "*Note: deleting 259 (good, good) pairs in foe table will not decrease # of nodes in the full network, because their scores are known*\n"
   ]
  },
  {
   "cell_type": "code",
   "execution_count": 411,
   "metadata": {
    "collapsed": true
   },
   "outputs": [],
   "source": [
    "net = nx.Graph()"
   ]
  },
  {
   "cell_type": "code",
   "execution_count": 412,
   "metadata": {
    "collapsed": true
   },
   "outputs": [],
   "source": [
    "with open('foes_true.pkl', 'rb') as file:\n",
    "    foes = pickle.load(file)"
   ]
  },
  {
   "cell_type": "code",
   "execution_count": 413,
   "metadata": {
    "collapsed": true
   },
   "outputs": [],
   "source": [
    "with open('friends_new.pkl', 'rb') as file:\n",
    "    friends = pickle.load(file)"
   ]
  },
  {
   "cell_type": "code",
   "execution_count": 415,
   "metadata": {},
   "outputs": [
    {
     "data": {
      "text/plain": [
       "474835"
      ]
     },
     "execution_count": 415,
     "metadata": {},
     "output_type": "execute_result"
    }
   ],
   "source": [
    "len(friends)"
   ]
  },
  {
   "cell_type": "code",
   "execution_count": 472,
   "metadata": {
    "collapsed": true
   },
   "outputs": [],
   "source": [
    "with open('id_score_full.pkl', 'rb') as file:\n",
    "    id_score = pickle.load(file)"
   ]
  },
  {
   "cell_type": "code",
   "execution_count": 473,
   "metadata": {},
   "outputs": [
    {
     "data": {
      "text/plain": [
       "1927"
      ]
     },
     "execution_count": 473,
     "metadata": {},
     "output_type": "execute_result"
    }
   ],
   "source": [
    "len(id_score)"
   ]
  },
  {
   "cell_type": "code",
   "execution_count": 418,
   "metadata": {
    "collapsed": true
   },
   "outputs": [],
   "source": [
    "for index, row in foes.iterrows():\n",
    "    net.add_edge(row['person1'], row['person2'], weight= -1)"
   ]
  },
  {
   "cell_type": "code",
   "execution_count": 419,
   "metadata": {
    "collapsed": true
   },
   "outputs": [],
   "source": [
    "for index, row in friends.iterrows():\n",
    "    net.add_edge(row['person1'], row['person2'], weight = 1)"
   ]
  },
  {
   "cell_type": "code",
   "execution_count": 430,
   "metadata": {},
   "outputs": [
    {
     "data": {
      "text/plain": [
       "54270"
      ]
     },
     "execution_count": 430,
     "metadata": {},
     "output_type": "execute_result"
    }
   ],
   "source": [
    "net.number_of_nodes()    # same as # of keys in the dict"
   ]
  },
  {
   "cell_type": "code",
   "execution_count": 431,
   "metadata": {},
   "outputs": [
    {
     "data": {
      "text/plain": [
       "609924"
      ]
     },
     "execution_count": 431,
     "metadata": {},
     "output_type": "execute_result"
    }
   ],
   "source": [
    "net.number_of_edges()"
   ]
  },
  {
   "cell_type": "code",
   "execution_count": 432,
   "metadata": {
    "collapsed": true
   },
   "outputs": [],
   "source": [
    "# add score and known_neighbor to vertices\n",
    "for node in list(net.nodes):\n",
    "    if node in id_score:\n",
    "        net.nodes[node]['known_neighbor'] = -1   # already in the score table\n",
    "        net.nodes[node]['score'] = id_score[node]\n",
    "    elif node in id_score_s:     # id_score_s is the dict with small dateset \n",
    "        k_n = 0\n",
    "        for adj_item in list(net.adj[node]):\n",
    "           if adj_item in id_score:\n",
    "               k_n += 1\n",
    "        net.nodes[node]['known_neighbor'] = k_n\n",
    "        net.nodes[node]['score'] = 0.0\n",
    "    else:      # not in small dataset\n",
    "        net.nodes[node]['known_neighbor'] = 0\n",
    "        net.nodes[node]['score'] = 0.0"
   ]
  },
  {
   "cell_type": "code",
   "execution_count": 433,
   "metadata": {},
   "outputs": [
    {
     "data": {
      "text/plain": [
       "{'known_neighbor': -1, 'score': -2}"
      ]
     },
     "execution_count": 433,
     "metadata": {},
     "output_type": "execute_result"
    }
   ],
   "source": [
    "net.nodes['b0177400_be9028c7'] "
   ]
  },
  {
   "cell_type": "code",
   "execution_count": 435,
   "metadata": {
    "collapsed": true
   },
   "outputs": [],
   "source": [
    "# update weight: 8 false friendships\n",
    "net.edges['8fa85ae_47e6744b', 'c4098202_59ca60c0']['weight'] = 0\n",
    "net.edges['8fd3a344_70daee4f', 'c4098202_59ca60c0']['weight'] = 0\n",
    "net.edges['9779191_d458ccd1', 'c4098202_59ca60c0']['weight'] = 0\n",
    "net.edges['4b1efc02_d975992f', 'c4098202_59ca60c0']['weight'] = 0\n",
    "net.edges['eb15b11c_2086cdf0', 'c4098202_59ca60c0']['weight'] = 0\n",
    "net.edges['256649c4_29402af', 'c4098202_59ca60c0']['weight'] = 0\n",
    "net.edges['14fc472a_f4b57e09', 'c4098202_59ca60c0']['weight'] = 0\n",
    "net.edges['4ef00044_557c7c45', 'c4098202_59ca60c0']['weight'] = 0"
   ]
  },
  {
   "cell_type": "code",
   "execution_count": 434,
   "metadata": {
    "collapsed": true
   },
   "outputs": [],
   "source": [
    "# identify (friend, friend, foe)\n",
    "cycls_3 = [c for c in nx.cycle_basis(net) if len(c)==3]\n",
    "tri = []\n",
    "for cycle in cycls_3:\n",
    "    pairs = list(itertools.combinations(cycle, 2))\n",
    "    # multiplicaiton of 3 weights: initialize mul with first weight\n",
    "    mul = net.edges[pairs[0][0], pairs[0][1]]['weight']\n",
    "    for pair in pairs[1:]: \n",
    "        mul *= net.edges[pair[0], pair[1]]['weight']\n",
    "    \n",
    "    if (mul == -1) and ((net.edges[pairs[0][0], pairs[0][1]]['weight'] + \\\n",
    "                      net.edges[pairs[1][0], pairs[1][1]]['weight'] + \\\n",
    "                      net.edges[pairs[2][0], pairs[2][1]]['weight']) == 1):\n",
    "        tri.append(cycle)"
   ]
  },
  {
   "cell_type": "code",
   "execution_count": 436,
   "metadata": {},
   "outputs": [
    {
     "data": {
      "text/plain": [
       "5145"
      ]
     },
     "execution_count": 436,
     "metadata": {},
     "output_type": "execute_result"
    }
   ],
   "source": [
    "len(tri)"
   ]
  },
  {
   "cell_type": "code",
   "execution_count": 437,
   "metadata": {
    "collapsed": true
   },
   "outputs": [],
   "source": [
    "# update weights: decrease friend weights in triangles in wrong_p1: by rule(2) and rule(3)\n",
    "for cycle in tri:\n",
    "    pairs = list(itertools.combinations(cycle, 2))\n",
    "    for pair in pairs:\n",
    "        if net.edges[pair[0], pair[1]]['weight'] == 1:\n",
    "            net.edges[pair[0], pair[1]]['weight'] = 0.001"
   ]
  },
  {
   "cell_type": "code",
   "execution_count": 438,
   "metadata": {
    "collapsed": true
   },
   "outputs": [],
   "source": [
    "# finish initilization: pickle net\n",
    "with open('net_full.pkl', 'wb') as file:\n",
    "    pickle.dump(net, file)"
   ]
  },
  {
   "cell_type": "code",
   "execution_count": 471,
   "metadata": {
    "collapsed": true
   },
   "outputs": [],
   "source": [
    "with open('net_full.pkl', 'rb') as file:\n",
    "    net = pickle.load(file)"
   ]
  },
  {
   "cell_type": "code",
   "execution_count": 474,
   "metadata": {},
   "outputs": [],
   "source": [
    "# sort vertices by their know_neighbor\n",
    "node_heap = []\n",
    "for node in list(net.nodes):\n",
    "    if net.node[node]['known_neighbor'] > 0:    # neither with known score nor 0 neighbors\n",
    "        heapq.heappush(node_heap, (1.0 * net.node[node]['known_neighbor'] / net.degree(node) , node))"
   ]
  },
  {
   "cell_type": "code",
   "execution_count": 467,
   "metadata": {},
   "outputs": [
    {
     "data": {
      "text/plain": [
       "23930"
      ]
     },
     "execution_count": 467,
     "metadata": {},
     "output_type": "execute_result"
    }
   ],
   "source": [
    "len(node_heap)   # same as in net_s: make sense :)"
   ]
  },
  {
   "cell_type": "code",
   "execution_count": 475,
   "metadata": {},
   "outputs": [
    {
     "data": {
      "text/plain": [
       "[(1.0, 'ffcfa365_2925a34a')]"
      ]
     },
     "execution_count": 475,
     "metadata": {},
     "output_type": "execute_result"
    }
   ],
   "source": [
    "heapq.nlargest(1, node_heap)  # verified"
   ]
  },
  {
   "cell_type": "code",
   "execution_count": 470,
   "metadata": {},
   "outputs": [
    {
     "data": {
      "text/plain": [
       "1"
      ]
     },
     "execution_count": 470,
     "metadata": {},
     "output_type": "execute_result"
    }
   ],
   "source": [
    "net.degree('ffcfa365_2925a34a')"
   ]
  },
  {
   "cell_type": "code",
   "execution_count": 476,
   "metadata": {},
   "outputs": [
    {
     "name": "stdout",
     "output_type": "stream",
     "text": [
      "8399.92395902\n"
     ]
    }
   ],
   "source": [
    "# calcualte a node score, update node attribute and the score dictionary, create a new heapq\n",
    "begin = time.time()\n",
    "\n",
    "while node_heap:\n",
    "    largest = heapq.nlargest(1, node_heap)\n",
    "    current_node = largest[0][1]\n",
    "    new_score = 0\n",
    "    count = 0\n",
    "    for adj_item in list(net.adj[current_node]):\n",
    "        if net.node[adj_item]['known_neighbor'] == -1:    # node's score is known or has been updated\n",
    "            new_score += net.edges[adj_item, current_node]['weight'] * net.node[adj_item]['score']\n",
    "            count += 1\n",
    "        else:\n",
    "            net.node[adj_item]['known_neighbor'] += 1     # update adjacent nodes 'known_neighbor' \n",
    "            \n",
    "    new_score /= count\n",
    "    # set 'known_neighbor' to -1\n",
    "    net.nodes[current_node]['known_neighbor'] = -1\n",
    "\n",
    "    # update node score in net, expand id_score dictionary\n",
    "    net.nodes[current_node]['score'] = new_score\n",
    "    id_score[current_node] = new_score\n",
    "\n",
    "    # create a new node_heap:\n",
    "    node_heap = []\n",
    "    for node in list(net.nodes):\n",
    "        if net.node[node]['known_neighbor']  > 0:    # never put nodes with known score in the heapq\n",
    "            heapq.heappush(node_heap, (1.0 * net.node[node]['known_neighbor'] / net.degree(node), node))\n",
    "\n",
    "            \n",
    "end = time.time()\n",
    "print end - begin\n",
    "#     # remove it from heapq and reheapify\n",
    "#     node_heap.remove(largest)\n",
    "#     heapq.heapify(node_heap)    "
   ]
  },
  {
   "cell_type": "code",
   "execution_count": 477,
   "metadata": {},
   "outputs": [
    {
     "data": {
      "text/plain": [
       "54238"
      ]
     },
     "execution_count": 477,
     "metadata": {},
     "output_type": "execute_result"
    }
   ],
   "source": [
    "len(id_score)"
   ]
  },
  {
   "cell_type": "code",
   "execution_count": 478,
   "metadata": {
    "collapsed": true
   },
   "outputs": [],
   "source": [
    "with open('id_score_final.pkl', 'wb') as file:\n",
    "    pickle.dump(id_score, file)"
   ]
  },
  {
   "cell_type": "code",
   "execution_count": 481,
   "metadata": {},
   "outputs": [
    {
     "data": {
      "text/plain": [
       "-2"
      ]
     },
     "execution_count": 481,
     "metadata": {},
     "output_type": "execute_result"
    }
   ],
   "source": [
    "id_score['1122b7d5_ed317db7']"
   ]
  },
  {
   "cell_type": "markdown",
   "metadata": {},
   "source": [
    "### Fix bug: difference between node_calculated and node_in_net"
   ]
  },
  {
   "cell_type": "code",
   "execution_count": 482,
   "metadata": {
    "collapsed": true
   },
   "outputs": [],
   "source": [
    "node_calculated = set(id_score.keys())"
   ]
  },
  {
   "cell_type": "code",
   "execution_count": 485,
   "metadata": {},
   "outputs": [],
   "source": [
    "node_in_net = set(net.nodes)"
   ]
  },
  {
   "cell_type": "code",
   "execution_count": 486,
   "metadata": {},
   "outputs": [
    {
     "data": {
      "text/plain": [
       "54238"
      ]
     },
     "execution_count": 486,
     "metadata": {},
     "output_type": "execute_result"
    }
   ],
   "source": [
    "len(node_calculated)"
   ]
  },
  {
   "cell_type": "code",
   "execution_count": 487,
   "metadata": {},
   "outputs": [
    {
     "data": {
      "text/plain": [
       "54270"
      ]
     },
     "execution_count": 487,
     "metadata": {},
     "output_type": "execute_result"
    }
   ],
   "source": [
    "len(node_in_net)"
   ]
  },
  {
   "cell_type": "code",
   "execution_count": 488,
   "metadata": {
    "collapsed": true
   },
   "outputs": [],
   "source": [
    "diff = node_in_net - node_calculated"
   ]
  },
  {
   "cell_type": "code",
   "execution_count": 509,
   "metadata": {},
   "outputs": [
    {
     "data": {
      "text/plain": [
       "35"
      ]
     },
     "execution_count": 509,
     "metadata": {},
     "output_type": "execute_result"
    }
   ],
   "source": [
    "len(diff)"
   ]
  },
  {
   "cell_type": "code",
   "execution_count": 489,
   "metadata": {
    "scrolled": true
   },
   "outputs": [
    {
     "data": {
      "text/plain": [
       "{'14ddcddd_b241f4fe',\n",
       " '1a432144_20b65eac',\n",
       " '2233fffe_54f7c149',\n",
       " '25f2e9e8_b77ac4f9',\n",
       " '2b853001_b808a505',\n",
       " '34c6a3cf_6e4e7899',\n",
       " '4056adfb_f0f26907',\n",
       " '4933062c_c5392638',\n",
       " '4f5344cd_1deb2d6a',\n",
       " '4fe8941c_be0c0106',\n",
       " '54ac52db_ba531816',\n",
       " '575fd620_c323b529',\n",
       " '5c6563b_da9ff8fd',\n",
       " '62ef4352_b8d29643',\n",
       " '630bac79_f5352bb4',\n",
       " '63dfbea0_55192781',\n",
       " '64c0ec72_bc003d2d',\n",
       " '68b4106f_ad0f9ce9',\n",
       " '73222626_730b5252',\n",
       " '7998bfab_a7a3307f',\n",
       " '9206ff2f_8fb7389b',\n",
       " '98c0ab41_d77bbc8e',\n",
       " '9a4d976_1dbaab6',\n",
       " 'b09a1db1_99979657',\n",
       " 'b355ab62_3a5540d9',\n",
       " 'ccac477c_6444f693',\n",
       " 'ccd9ca6_2e739fff',\n",
       " 'cdbbfbff_e5d760ad',\n",
       " 'd3fa21db_56173d26',\n",
       " 'd656575f_21b9431b',\n",
       " 'd987246f_cd15cb0',\n",
       " 'f1d6ca15_e8592bc5',\n",
       " 'f3511315_1399fee1',\n",
       " 'f72e44b3_920c913d',\n",
       " 'feb31af3_b4dac040'}"
      ]
     },
     "execution_count": 489,
     "metadata": {},
     "output_type": "execute_result"
    }
   ],
   "source": [
    "diff"
   ]
  },
  {
   "cell_type": "code",
   "execution_count": 490,
   "metadata": {},
   "outputs": [
    {
     "data": {
      "text/plain": [
       "{'known_neighbor': 0, 'score': 0.0}"
      ]
     },
     "execution_count": 490,
     "metadata": {},
     "output_type": "execute_result"
    }
   ],
   "source": [
    "net.nodes['14ddcddd_b241f4fe']"
   ]
  },
  {
   "cell_type": "code",
   "execution_count": 493,
   "metadata": {},
   "outputs": [
    {
     "data": {
      "text/plain": [
       "{'known_neighbor': 0, 'score': 0.0}"
      ]
     },
     "execution_count": 493,
     "metadata": {},
     "output_type": "execute_result"
    }
   ],
   "source": [
    "net.nodes['73222626_730b5252']"
   ]
  },
  {
   "cell_type": "code",
   "execution_count": 499,
   "metadata": {},
   "outputs": [],
   "source": [
    "# create dataframe from dictionary \n",
    "classification = pd.DataFrame(id_score.items(), columns=['ID', 'score'])"
   ]
  },
  {
   "cell_type": "code",
   "execution_count": 500,
   "metadata": {},
   "outputs": [
    {
     "data": {
      "text/plain": [
       "54238"
      ]
     },
     "execution_count": 500,
     "metadata": {},
     "output_type": "execute_result"
    }
   ],
   "source": [
    "len(classification)"
   ]
  },
  {
   "cell_type": "code",
   "execution_count": 501,
   "metadata": {
    "collapsed": true
   },
   "outputs": [],
   "source": [
    "cls = pd.DataFrame([[ID, 0.0] for ID in diff], columns=['ID', 'score'])"
   ]
  },
  {
   "cell_type": "code",
   "execution_count": 505,
   "metadata": {},
   "outputs": [],
   "source": [
    "classification = classification.append(cls)"
   ]
  },
  {
   "cell_type": "code",
   "execution_count": 506,
   "metadata": {},
   "outputs": [
    {
     "data": {
      "text/plain": [
       "54273"
      ]
     },
     "execution_count": 506,
     "metadata": {},
     "output_type": "execute_result"
    }
   ],
   "source": [
    "len(classification)   # make sense"
   ]
  },
  {
   "cell_type": "code",
   "execution_count": 508,
   "metadata": {},
   "outputs": [
    {
     "data": {
      "text/plain": [
       "54273"
      ]
     },
     "execution_count": 508,
     "metadata": {},
     "output_type": "execute_result"
    }
   ],
   "source": [
    "len(set(classification['ID']))  # no duplicate"
   ]
  },
  {
   "cell_type": "code",
   "execution_count": 513,
   "metadata": {},
   "outputs": [],
   "source": [
    "#classification.index.tolist()[-5:]"
   ]
  },
  {
   "cell_type": "code",
   "execution_count": 514,
   "metadata": {
    "collapsed": true
   },
   "outputs": [],
   "source": [
    "classification.reset_index(drop=True, inplace = True)"
   ]
  },
  {
   "cell_type": "code",
   "execution_count": 515,
   "metadata": {
    "collapsed": true
   },
   "outputs": [],
   "source": [
    "classification['cls'] = \"\""
   ]
  },
  {
   "cell_type": "code",
   "execution_count": 516,
   "metadata": {},
   "outputs": [
    {
     "name": "stderr",
     "output_type": "stream",
     "text": [
      "/Users/huilinhu/anaconda/lib/python2.7/site-packages/ipykernel_launcher.py:1: SettingWithCopyWarning: \n",
      "A value is trying to be set on a copy of a slice from a DataFrame\n",
      "\n",
      "See the caveats in the documentation: http://pandas.pydata.org/pandas-docs/stable/indexing.html#indexing-view-versus-copy\n",
      "  \"\"\"Entry point for launching an IPython kernel.\n"
     ]
    }
   ],
   "source": [
    "classification['cls'][classification['score'] < 0] = 'bad'"
   ]
  },
  {
   "cell_type": "code",
   "execution_count": 517,
   "metadata": {},
   "outputs": [
    {
     "name": "stderr",
     "output_type": "stream",
     "text": [
      "/Users/huilinhu/anaconda/lib/python2.7/site-packages/ipykernel_launcher.py:1: SettingWithCopyWarning: \n",
      "A value is trying to be set on a copy of a slice from a DataFrame\n",
      "\n",
      "See the caveats in the documentation: http://pandas.pydata.org/pandas-docs/stable/indexing.html#indexing-view-versus-copy\n",
      "  \"\"\"Entry point for launching an IPython kernel.\n"
     ]
    }
   ],
   "source": [
    "classification['cls'][classification['score'] > 0] = 'good'"
   ]
  },
  {
   "cell_type": "code",
   "execution_count": 518,
   "metadata": {},
   "outputs": [
    {
     "data": {
      "text/plain": [
       "bad     30439\n",
       "good    23707\n",
       "          127\n",
       "Name: cls, dtype: int64"
      ]
     },
     "execution_count": 518,
     "metadata": {},
     "output_type": "execute_result"
    }
   ],
   "source": [
    "classification['cls'].value_counts()"
   ]
  },
  {
   "cell_type": "code",
   "execution_count": 519,
   "metadata": {},
   "outputs": [
    {
     "name": "stderr",
     "output_type": "stream",
     "text": [
      "/Users/huilinhu/anaconda/lib/python2.7/site-packages/ipykernel_launcher.py:1: SettingWithCopyWarning: \n",
      "A value is trying to be set on a copy of a slice from a DataFrame\n",
      "\n",
      "See the caveats in the documentation: http://pandas.pydata.org/pandas-docs/stable/indexing.html#indexing-view-versus-copy\n",
      "  \"\"\"Entry point for launching an IPython kernel.\n"
     ]
    }
   ],
   "source": [
    "classification['cls'][classification['score'] == 0] = 'bad'"
   ]
  },
  {
   "cell_type": "code",
   "execution_count": 520,
   "metadata": {},
   "outputs": [
    {
     "data": {
      "text/plain": [
       "bad     30566\n",
       "good    23707\n",
       "Name: cls, dtype: int64"
      ]
     },
     "execution_count": 520,
     "metadata": {},
     "output_type": "execute_result"
    }
   ],
   "source": [
    "classification['cls'].value_counts()"
   ]
  },
  {
   "cell_type": "code",
   "execution_count": 521,
   "metadata": {
    "collapsed": true
   },
   "outputs": [],
   "source": [
    "with open('classification.pkl', 'wb') as file:\n",
    "    pickle.dump(classification, file)"
   ]
  },
  {
   "cell_type": "code",
   "execution_count": 522,
   "metadata": {
    "collapsed": true
   },
   "outputs": [],
   "source": [
    "classification.to_csv('cls.csv')"
   ]
  }
 ],
 "metadata": {
  "kernelspec": {
   "display_name": "Python 2",
   "language": "python",
   "name": "python2"
  },
  "language_info": {
   "codemirror_mode": {
    "name": "ipython",
    "version": 2
   },
   "file_extension": ".py",
   "mimetype": "text/x-python",
   "name": "python",
   "nbconvert_exporter": "python",
   "pygments_lexer": "ipython2",
   "version": "2.7.13"
  }
 },
 "nbformat": 4,
 "nbformat_minor": 2
}
